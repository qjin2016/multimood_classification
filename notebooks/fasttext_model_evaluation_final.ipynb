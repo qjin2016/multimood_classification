{
 "cells": [
  {
   "cell_type": "markdown",
   "metadata": {
    "collapsed": false
   },
   "source": [
    "### This notebook is used for evalution the performance of the trained fastText model"
   ]
  },
  {
   "cell_type": "code",
   "execution_count": 1,
   "metadata": {
    "collapsed": false
   },
   "outputs": [
    {
     "data": {
      "text/html": [
       "<script>requirejs.config({paths: { 'plotly': ['https://cdn.plot.ly/plotly-latest.min']},});if(!window.Plotly) {{require(['plotly'],function(plotly) {window.Plotly=plotly;});}}</script>"
      ],
      "text/plain": [
       "<IPython.core.display.HTML object>"
      ]
     },
     "metadata": {},
     "output_type": "display_data"
    }
   ],
   "source": [
    "import pandas as pd\n",
    "import numpy as np\n",
    "import matplotlib.pyplot as plt\n",
    "%matplotlib inline  \n",
    "\n",
    "import fastText\n",
    "from fastText import load_model\n",
    "\n",
    "import plotly\n",
    "import plotly.plotly as py\n",
    "import plotly.graph_objs as go\n",
    "plotly.offline.init_notebook_mode(connected=True)"
   ]
  },
  {
   "cell_type": "code",
   "execution_count": 2,
   "metadata": {
    "collapsed": false
   },
   "outputs": [
    {
     "data": {
      "text/plain": [
       "(3561, 6)"
      ]
     },
     "execution_count": 2,
     "metadata": {},
     "output_type": "execute_result"
    }
   ],
   "source": [
    "# read in data\n",
    "empathies = pd.read_csv('./empathies.csv')\n",
    "msg = pd.read_csv('./msg_fasttext.csv')\n",
    "msg.shape"
   ]
  },
  {
   "cell_type": "code",
   "execution_count": 3,
   "metadata": {
    "collapsed": true
   },
   "outputs": [],
   "source": [
    "# drop irrelevant columns\n",
    "msg = msg.drop(msg.columns[0:2], axis=1)"
   ]
  },
  {
   "cell_type": "code",
   "execution_count": 4,
   "metadata": {
    "collapsed": true
   },
   "outputs": [],
   "source": [
    "# get a map that contains empathy and its corresponding polarity score, this map will be used to compute metrics\n",
    "dict_polarities = {}\n",
    "for i in range(empathies.shape[0]):\n",
    "    dict_polarities['__label__'+empathies.iloc[i][0]] = float(empathies.iloc[i][1])"
   ]
  },
  {
   "cell_type": "code",
   "execution_count": 5,
   "metadata": {
    "collapsed": false
   },
   "outputs": [
    {
     "data": {
      "text/html": [
       "<div>\n",
       "<style>\n",
       "    .dataframe thead tr:only-child th {\n",
       "        text-align: right;\n",
       "    }\n",
       "\n",
       "    .dataframe thead th {\n",
       "        text-align: left;\n",
       "    }\n",
       "\n",
       "    .dataframe tbody tr th {\n",
       "        vertical-align: top;\n",
       "    }\n",
       "</style>\n",
       "<table border=\"1\" class=\"dataframe\">\n",
       "  <thead>\n",
       "    <tr style=\"text-align: right;\">\n",
       "      <th></th>\n",
       "      <th>num_seen</th>\n",
       "      <th>message</th>\n",
       "      <th>empathy</th>\n",
       "      <th>labels</th>\n",
       "    </tr>\n",
       "  </thead>\n",
       "  <tbody>\n",
       "    <tr>\n",
       "      <th>0</th>\n",
       "      <td>3</td>\n",
       "      <td>slightly annoyed</td>\n",
       "      <td>annoyed</td>\n",
       "      <td>__label__annoyed</td>\n",
       "    </tr>\n",
       "    <tr>\n",
       "      <th>1</th>\n",
       "      <td>1</td>\n",
       "      <td>i'm not feeling too bad, i have work tomorrow...</td>\n",
       "      <td>anxious</td>\n",
       "      <td>__label__anxious</td>\n",
       "    </tr>\n",
       "  </tbody>\n",
       "</table>\n",
       "</div>"
      ],
      "text/plain": [
       "   num_seen                                            message   empathy  \\\n",
       "0         3                                   slightly annoyed   annoyed   \n",
       "1         1   i'm not feeling too bad, i have work tomorrow...  anxious    \n",
       "\n",
       "              labels  \n",
       "0  __label__annoyed   \n",
       "1  __label__anxious   "
      ]
     },
     "execution_count": 5,
     "metadata": {},
     "output_type": "execute_result"
    }
   ],
   "source": [
    "msg.head(2)"
   ]
  },
  {
   "cell_type": "code",
   "execution_count": 6,
   "metadata": {
    "collapsed": true
   },
   "outputs": [],
   "source": [
    "# load trained fastText model\n",
    "model = load_model('../fastText/test/model_woebot_epoch30_3gram.bin')"
   ]
  },
  {
   "cell_type": "markdown",
   "metadata": {},
   "source": [
    "The following function is used to compare against the ground truth in a **relaxed**  format, which means if the predicted class is not exactly the same as the truth, but has the same polarity score. The prediction will still be counted as truth positive\n",
    "\n",
    "The output is a dictionary contained label: number of true positives, false positives and false negatives\n",
    "the output will be used for calculating overall precision, recall and F1 score"
   ]
  },
  {
   "cell_type": "code",
   "execution_count": 7,
   "metadata": {
    "collapsed": true
   },
   "outputs": [],
   "source": [
    "def compare_truth_relaxed(cutoff_value, dict_polarities, model, inputs, start, stop):\n",
    "    '''\n",
    "    output: {label: [TP, FP, FN]}\n",
    "    '''\n",
    "    label_s = list(dict_polarities.keys())\n",
    "    res = {}\n",
    "    \n",
    "    for l in label_s:\n",
    "        # True Positives, False Positives, False Negatives\n",
    "        res[l] = [0, 0, 0]\n",
    "        \n",
    "    for i in range(start, stop):\n",
    "        preds = model.predict(inputs.iloc[i][1].replace('\\n', ' '), 5)\n",
    "        true_scores = [dict_polarities[la.strip()] for la in msg.iloc[i]['labels'].split(' ') if la != '']\n",
    "        \n",
    "        # store predicted labels and the corresponding polarity score\n",
    "        pred_labs, scores  = [], []\n",
    "        \n",
    "        for lab, p in zip(preds[0], preds[1]):\n",
    "            if p > cutoff_value:\n",
    "                pred_labs.append(lab)\n",
    "                scores.append(dict_polarities[lab])\n",
    "                \n",
    "                if lab in msg.iloc[i]['labels'] or dict_polarities[lab] in true_scores:\n",
    "                    # true positive\n",
    "                    res[lab][0] += 1\n",
    "                if lab not in msg.iloc[i]['labels'] and dict_polarities[lab] not in true_scores:\n",
    "                    # false positive\n",
    "                    res[lab][1] += 1\n",
    "                \n",
    "        for true_lab in msg.iloc[i]['labels'].split(' '):\n",
    "            if true_lab != '' and true_lab != ' ' and true_lab not in pred_labs and dict_polarities[lab] not in scores:\n",
    "                # false negative\n",
    "                res[true_lab][2] += 1\n",
    "                \n",
    "    return res"
   ]
  },
  {
   "cell_type": "markdown",
   "metadata": {},
   "source": [
    "Similiar as the above function. The following function is used to compare against the ground truth, but in a **nonrelaxed** format -- the predicted class has to be exactly the same as the truth in order to be counted as true positive.\n",
    "\n",
    "The output is a dictionary contained label: number of true positives, false positives and false negatives\n",
    "the output will be used for calculating overall precision, recall and F1 score"
   ]
  },
  {
   "cell_type": "code",
   "execution_count": 8,
   "metadata": {
    "collapsed": true
   },
   "outputs": [],
   "source": [
    "def compare_truth_nonrelaxed(cutoff_value, dict_polarities, model, inputs, start, stop):\n",
    "    '''\n",
    "    output: {label: [TP, FP, FN]}\n",
    "    '''\n",
    "    label_s = list(dict_polarities.keys())\n",
    "    res = {}\n",
    "    \n",
    "    for l in label_s:\n",
    "        # True Positives, False Positives, False Negatives\n",
    "        res[l] = [0, 0, 0]\n",
    "        \n",
    "    for i in range(start, stop):\n",
    "        preds = model.predict(inputs.iloc[i]['message'].replace('\\n', ' '), 5)\n",
    "        true_scores = [dict_polarities[la.strip()] for la in msg.iloc[i]['labels'].split(' ') if la != '']\n",
    "        \n",
    "        # store predicted labels and the corresponding polarity score\n",
    "        pred_labs, scores  = [], []\n",
    "        \n",
    "        for lab, p in zip(preds[0], preds[1]):\n",
    "            if p > cutoff_value:\n",
    "                pred_labs.append(lab)\n",
    "                scores.append(dict_polarities[lab])\n",
    "                \n",
    "                if lab in msg.iloc[i]['labels']:\n",
    "                    # true positive\n",
    "                    res[lab][0] += 1\n",
    "                if lab not in msg.iloc[i]['labels']:\n",
    "                    # false positive\n",
    "                    res[lab][1] += 1\n",
    "                \n",
    "        for true_lab in msg.iloc[i]['labels'].split(' '):\n",
    "            if true_lab != '' and true_lab != ' ' and true_lab not in pred_labs:\n",
    "                # false negative\n",
    "                res[true_lab][2] += 1\n",
    "                \n",
    "    return res"
   ]
  },
  {
   "cell_type": "code",
   "execution_count": 9,
   "metadata": {
    "collapsed": true
   },
   "outputs": [],
   "source": [
    "def overall_score(res):\n",
    "    '''\n",
    "    output precision, recall and F1 score\n",
    "    '''\n",
    "    num_TP, num_FP, num_FN = 0, 0, 0\n",
    "    \n",
    "    for _, vals in res.items():\n",
    "        num_TP += vals[0]\n",
    "        num_FP += vals[1]\n",
    "        num_FN += vals[2]\n",
    "            \n",
    "    precision = num_TP/(num_TP+num_FP)\n",
    "    recall = num_TP/(num_TP+num_FN)\n",
    "    \n",
    "    return precision, recall, 2/(1/precision + 1/recall)"
   ]
  },
  {
   "cell_type": "code",
   "execution_count": 10,
   "metadata": {
    "collapsed": false
   },
   "outputs": [],
   "source": [
    "# explore the best cutoff value with the training data\n",
    "ps, rs, fs = [], [], []\n",
    "for proposed_cut in np.arange(.0, .5, .01):\n",
    "    res = compare_truth_relaxed(proposed_cut, dict_polarities, model, msg, 0, 2500)\n",
    "    p, r, f = overall_score(res)\n",
    "    ps.append(p)\n",
    "    rs.append(rs)\n",
    "    fs.append(f)"
   ]
  },
  {
   "cell_type": "code",
   "execution_count": 11,
   "metadata": {
    "collapsed": false
   },
   "outputs": [
    {
     "data": {
      "image/png": "[encoded data removed]",
      "text/plain": [
       "<matplotlib.figure.Figure at 0x111a15cf8>"
      ]
     },
     "metadata": {},
     "output_type": "display_data"
    }
   ],
   "source": [
    "# plot the change of F1 score as the cutoff value increases from 0.0 to 0.5\n",
    "proposed_cuts = np.arange(.0, .5, .01)\n",
    "plt.plot(proposed_cuts, fs, 'r--')\n",
    "plt.show()"
   ]
  },
  {
   "cell_type": "code",
   "execution_count": 12,
   "metadata": {
    "collapsed": false
   },
   "outputs": [
    {
     "data": {
      "text/plain": [
       "0.10000000000000001"
      ]
     },
     "execution_count": 12,
     "metadata": {},
     "output_type": "execute_result"
    }
   ],
   "source": [
    "# find the best cutoff value\n",
    "max_fs_idx = fs.index(max(fs))\n",
    "np.arange(.0, .5, .01)[max_fs_idx]"
   ]
  },
  {
   "cell_type": "code",
   "execution_count": 14,
   "metadata": {
    "collapsed": false
   },
   "outputs": [
    {
     "name": "stdout",
     "output_type": "stream",
     "text": [
      "model performance on the validation dataset is: \n",
      "precision: 0.9139026111503176\n",
      "recall: 0.9011830201809325\n",
      "F1: 0.9074982480728802\n"
     ]
    }
   ],
   "source": [
    "# calculate overall precision, recall and F1 score of validation data with the cutoff value found from above\n",
    "res = compare_truth_relaxed(.1, dict_polarities, model, msg, 2500, msg.shape[0])\n",
    "overall_scores = overall_score(res)\n",
    "\n",
    "print('model performance on the validation dataset is: ')\n",
    "print('precision: {}'.format(overall_scores[0]))\n",
    "print('recall: {}'.format(overall_scores[1]))\n",
    "print('F1: {}'.format(overall_scores[2]))"
   ]
  },
  {
   "cell_type": "code",
   "execution_count": 15,
   "metadata": {
    "collapsed": true
   },
   "outputs": [],
   "source": [
    "# generate bar-chart of true positives, false positives and false negatives for each class\n",
    "def confu_plot(con_matrix):\n",
    "    '''\n",
    "    generate bar-chart of true positives, false positives and false negatives for each class\n",
    "    '''\n",
    "    names = []\n",
    "    TP, FP, FN = [], [], []\n",
    "    for k, vals in con_matrix.items():\n",
    "        name=k.replace('__label__', '')\n",
    "        names.append(name)\n",
    "        TP.append(vals[0])\n",
    "        FP.append(vals[1])\n",
    "        FN.append(vals[2])\n",
    "\n",
    "    trace1 = go.Bar(\n",
    "        x=names,\n",
    "        y=TP,\n",
    "        name='True Positive'\n",
    "    )\n",
    "\n",
    "    trace2 = go.Bar(\n",
    "        x=names,\n",
    "        y=FP,\n",
    "        name='False Positive'\n",
    "    )\n",
    "\n",
    "    trace3 = go.Bar(\n",
    "        x=names,\n",
    "        y=FN,\n",
    "        name='False Negative'\n",
    "    )\n",
    "\n",
    "    data = [trace1, trace2, trace3]\n",
    "    layout = go.Layout(\n",
    "        barmode='group',\n",
    "\n",
    "        xaxis=dict(\n",
    "            title='labels',\n",
    "            titlefont=dict(\n",
    "                size=18,\n",
    "            ),\n",
    "            showticklabels=True,\n",
    "            tickangle=45,\n",
    "            tickfont=dict(\n",
    "                size=14,\n",
    "                color='black'\n",
    "            ),\n",
    "            exponentformat='e',\n",
    "            showexponent='All'\n",
    "        )\n",
    "    )\n",
    "\n",
    "    fig = go.Figure(data=data, layout=layout)\n",
    "    plotly.offline.iplot(fig, filename='grouped-bar') "
   ]
  },
  {
   "cell_type": "code",
   "execution_count": 16,
   "metadata": {
    "collapsed": false
   },
   "outputs": [
    {
     "data": {
      "text/html": [
       "<div id=\"dc6abd5d-0be3-496e-b95a-a9bff0e8b7a7\" style=\"height: 525px; width: 100%;\" class=\"plotly-graph-div\"></div><script type=\"text/javascript\">require([\"plotly\"], function(Plotly) { window.PLOTLYENV=window.PLOTLYENV || {};window.PLOTLYENV.BASE_URL=\"https://plot.ly\";Plotly.newPlot(\"dc6abd5d-0be3-496e-b95a-a9bff0e8b7a7\", [{\"name\": \"True Positive\", \"x\": [\"embarrassed\", \"distortion\", \"great\", \"sad\", \"calm\", \"playful\", \"uneasy\", \"intoxicated\", \"better\", \"lonely\", \"depressed\", \"sexy\", \"despair\", \"emotionless\", \"idk\", \"thirsty\", \"upset\", \"sleep\", \"loved\", \"good\", \"hopeful\", \"lazy\", \"happy\", \"stress\", \"uncertain\", \"vulnerable\", \"tired\", \"ignored\", \"restless\", \"emotional\", \"bored\", \"determined\", \"creative\", \"jealous\", \"okay\", \"inspired\", \"regret\", \"engaged\", \"confused\", \"unmotivated\", \"average\", \"full\", \"pensive\", \"hungry\", \"flustered\", \"loss\", \"scared\", \"excited\", \"affectionate\", \"unsatisfied\", \"annoyed\", \"stable\", \"surprised\", \"sick\", \"panic\", \"angry\", \"anxious\", \"relief\", \"confidence\", \"disconnected\", \"healthy\", \"frustrated\", \"pain\", \"rude\"], \"type\": \"bar\", \"y\": [8, 19, 14, 86, 58, 1, 14, 10, 22, 33, 41, 7, 10, 34, 21, 0, 7, 44, 2, 18, 4, 15, 73, 31, 7, 11, 68, 1, 4, 8, 39, 29, 2, 0, 45, 3, 5, 15, 27, 23, 29, 11, 17, 11, 4, 15, 14, 44, 10, 15, 38, 13, 1, 11, 0, 38, 58, 15, 21, 30, 0, 0, 40, 1]}, {\"name\": \"False Positive\", \"x\": [\"embarrassed\", \"distortion\", \"great\", \"sad\", \"calm\", \"playful\", \"uneasy\", \"intoxicated\", \"better\", \"lonely\", \"depressed\", \"sexy\", \"despair\", \"emotionless\", \"idk\", \"thirsty\", \"upset\", \"sleep\", \"loved\", \"good\", \"hopeful\", \"lazy\", \"happy\", \"stress\", \"uncertain\", \"vulnerable\", \"tired\", \"ignored\", \"restless\", \"emotional\", \"bored\", \"determined\", \"creative\", \"jealous\", \"okay\", \"inspired\", \"regret\", \"engaged\", \"confused\", \"unmotivated\", \"average\", \"full\", \"pensive\", \"hungry\", \"flustered\", \"loss\", \"scared\", \"excited\", \"affectionate\", \"unsatisfied\", \"annoyed\", \"stable\", \"surprised\", \"sick\", \"panic\", \"angry\", \"anxious\", \"relief\", \"confidence\", \"disconnected\", \"healthy\", \"frustrated\", \"pain\", \"rude\"], \"type\": \"bar\", \"y\": [1, 0, 1, 5, 20, 0, 2, 0, 0, 3, 3, 0, 0, 31, 5, 0, 0, 3, 0, 3, 1, 0, 0, 1, 2, 0, 2, 0, 1, 0, 0, 1, 0, 0, 6, 0, 0, 2, 1, 4, 3, 0, 1, 0, 0, 0, 0, 0, 1, 3, 10, 0, 0, 1, 0, 0, 3, 0, 0, 1, 0, 0, 1, 0]}, {\"name\": \"False Negative\", \"x\": [\"embarrassed\", \"distortion\", \"great\", \"sad\", \"calm\", \"playful\", \"uneasy\", \"intoxicated\", \"better\", \"lonely\", \"depressed\", \"sexy\", \"despair\", \"emotionless\", \"idk\", \"thirsty\", \"upset\", \"sleep\", \"loved\", \"good\", \"hopeful\", \"lazy\", \"happy\", \"stress\", \"uncertain\", \"vulnerable\", \"tired\", \"ignored\", \"restless\", \"emotional\", \"bored\", \"determined\", \"creative\", \"jealous\", \"okay\", \"inspired\", \"regret\", \"engaged\", \"confused\", \"unmotivated\", \"average\", \"full\", \"pensive\", \"hungry\", \"flustered\", \"loss\", \"scared\", \"excited\", \"affectionate\", \"unsatisfied\", \"annoyed\", \"stable\", \"surprised\", \"sick\", \"panic\", \"angry\", \"anxious\", \"relief\", \"confidence\", \"disconnected\", \"healthy\", \"frustrated\", \"pain\", \"rude\"], \"type\": \"bar\", \"y\": [3, 3, 1, 13, 6, 0, 2, 2, 0, 5, 7, 1, 3, 4, 3, 0, 4, 3, 0, 1, 0, 1, 11, 0, 2, 0, 10, 0, 0, 2, 3, 1, 0, 0, 2, 1, 3, 1, 4, 3, 4, 0, 0, 1, 1, 0, 1, 2, 2, 0, 4, 0, 1, 3, 0, 5, 3, 1, 1, 2, 0, 0, 6, 0]}], {\"barmode\": \"group\", \"xaxis\": {\"titlefont\": {\"size\": 18}, \"title\": \"labels\", \"tickfont\": {\"color\": \"black\", \"size\": 14}, \"showexponent\": \"All\", \"tickangle\": 45, \"exponentformat\": \"e\", \"showticklabels\": true}}, {\"showLink\": true, \"linkText\": \"Export to plot.ly\"})});</script>"
      ],
      "text/plain": [
       "<IPython.core.display.HTML object>"
      ]
     },
     "metadata": {},
     "output_type": "display_data"
    }
   ],
   "source": [
    "# plotting\n",
    "confu_plot(res)"
   ]
  },
  {
   "cell_type": "code",
   "execution_count": 17,
   "metadata": {
    "collapsed": true
   },
   "outputs": [],
   "source": [
    "# explore the best cutoff value with the training data using the non-relaxed comparison function\n",
    "ps, rs, fs = [], [], []\n",
    "for proposed_cut in np.arange(.0, .5, .01):\n",
    "    res = compare_truth_nonrelaxed(proposed_cut, dict_polarities, model, msg, 0, 2500)\n",
    "    p, r, f = overall_score(res)\n",
    "    ps.append(p)\n",
    "    rs.append(rs)\n",
    "    fs.append(f)"
   ]
  },
  {
   "cell_type": "code",
   "execution_count": 18,
   "metadata": {
    "collapsed": false
   },
   "outputs": [
    {
     "data": {
      "image/png": "[encoded data removed]",
      "text/plain": [
       "<matplotlib.figure.Figure at 0x111c48358>"
      ]
     },
     "metadata": {},
     "output_type": "display_data"
    }
   ],
   "source": [
    "# plot the change of F1 score as the cutoff value increases from 0.0 to 0.5\n",
    "proposed_cuts = np.arange(.0, .5, .01)\n",
    "plt.plot(proposed_cuts, fs, 'r--')\n",
    "plt.show()"
   ]
  },
  {
   "cell_type": "code",
   "execution_count": 19,
   "metadata": {
    "collapsed": false
   },
   "outputs": [
    {
     "data": {
      "text/plain": [
       "0.10000000000000001"
      ]
     },
     "execution_count": 19,
     "metadata": {},
     "output_type": "execute_result"
    }
   ],
   "source": [
    "# find the best cutoff value\n",
    "max_fs_idx = fs.index(max(fs))\n",
    "np.arange(.0, .5, .01)[max_fs_idx]"
   ]
  },
  {
   "cell_type": "code",
   "execution_count": 22,
   "metadata": {
    "collapsed": false
   },
   "outputs": [
    {
     "name": "stdout",
     "output_type": "stream",
     "text": [
      "model performance using non-relaxed comparison function on the validation dataset is: \n",
      "precision: 0.8983768525052929\n",
      "recall: 0.8840277777777777\n",
      "F1: 0.8911445572278615\n"
     ]
    }
   ],
   "source": [
    "# calculate overall precision, recall and F1 score of validation data with the cutoff value found from above\n",
    "res = compare_truth_nonrelaxed(.1, dict_polarities, model, msg, 2500, msg.shape[0])\n",
    "overall_scores = overall_score(res)\n",
    "\n",
    "print('model performance using non-relaxed comparison function on the validation dataset is: ')\n",
    "print('precision: {}'.format(overall_scores[0]))\n",
    "print('recall: {}'.format(overall_scores[1]))\n",
    "print('F1: {}'.format(overall_scores[2]))"
   ]
  },
  {
   "cell_type": "code",
   "execution_count": 23,
   "metadata": {
    "collapsed": false
   },
   "outputs": [
    {
     "data": {
      "text/html": [
       "<div id=\"48abbde1-c5b8-4add-b628-4799b85d81a2\" style=\"height: 525px; width: 100%;\" class=\"plotly-graph-div\"></div><script type=\"text/javascript\">require([\"plotly\"], function(Plotly) { window.PLOTLYENV=window.PLOTLYENV || {};window.PLOTLYENV.BASE_URL=\"https://plot.ly\";Plotly.newPlot(\"48abbde1-c5b8-4add-b628-4799b85d81a2\", [{\"name\": \"True Positive\", \"x\": [\"embarrassed\", \"distortion\", \"great\", \"sad\", \"calm\", \"playful\", \"uneasy\", \"intoxicated\", \"better\", \"lonely\", \"depressed\", \"sexy\", \"despair\", \"emotionless\", \"idk\", \"thirsty\", \"upset\", \"sleep\", \"loved\", \"good\", \"hopeful\", \"lazy\", \"happy\", \"stress\", \"uncertain\", \"vulnerable\", \"tired\", \"ignored\", \"restless\", \"emotional\", \"bored\", \"determined\", \"creative\", \"jealous\", \"okay\", \"inspired\", \"regret\", \"engaged\", \"confused\", \"unmotivated\", \"average\", \"full\", \"pensive\", \"hungry\", \"flustered\", \"loss\", \"scared\", \"excited\", \"affectionate\", \"unsatisfied\", \"annoyed\", \"stable\", \"surprised\", \"sick\", \"panic\", \"angry\", \"anxious\", \"relief\", \"confidence\", \"disconnected\", \"healthy\", \"frustrated\", \"pain\", \"rude\"], \"type\": \"bar\", \"y\": [8, 18, 13, 82, 55, 1, 14, 10, 22, 33, 40, 7, 9, 34, 21, 0, 7, 44, 2, 18, 4, 15, 71, 31, 7, 11, 67, 1, 4, 7, 39, 29, 2, 0, 45, 3, 5, 15, 26, 23, 29, 11, 17, 11, 4, 15, 14, 44, 10, 15, 36, 12, 1, 11, 0, 38, 55, 15, 21, 30, 0, 0, 40, 1]}, {\"name\": \"False Positive\", \"x\": [\"embarrassed\", \"distortion\", \"great\", \"sad\", \"calm\", \"playful\", \"uneasy\", \"intoxicated\", \"better\", \"lonely\", \"depressed\", \"sexy\", \"despair\", \"emotionless\", \"idk\", \"thirsty\", \"upset\", \"sleep\", \"loved\", \"good\", \"hopeful\", \"lazy\", \"happy\", \"stress\", \"uncertain\", \"vulnerable\", \"tired\", \"ignored\", \"restless\", \"emotional\", \"bored\", \"determined\", \"creative\", \"jealous\", \"okay\", \"inspired\", \"regret\", \"engaged\", \"confused\", \"unmotivated\", \"average\", \"full\", \"pensive\", \"hungry\", \"flustered\", \"loss\", \"scared\", \"excited\", \"affectionate\", \"unsatisfied\", \"annoyed\", \"stable\", \"surprised\", \"sick\", \"panic\", \"angry\", \"anxious\", \"relief\", \"confidence\", \"disconnected\", \"healthy\", \"frustrated\", \"pain\", \"rude\"], \"type\": \"bar\", \"y\": [1, 1, 2, 9, 23, 0, 2, 0, 0, 3, 4, 0, 1, 31, 5, 0, 0, 3, 0, 3, 1, 0, 2, 1, 2, 0, 3, 0, 1, 1, 0, 1, 0, 0, 6, 0, 0, 2, 2, 4, 3, 0, 1, 0, 0, 0, 0, 0, 1, 3, 12, 1, 0, 1, 0, 0, 6, 0, 0, 1, 0, 0, 1, 0]}, {\"name\": \"False Negative\", \"x\": [\"embarrassed\", \"distortion\", \"great\", \"sad\", \"calm\", \"playful\", \"uneasy\", \"intoxicated\", \"better\", \"lonely\", \"depressed\", \"sexy\", \"despair\", \"emotionless\", \"idk\", \"thirsty\", \"upset\", \"sleep\", \"loved\", \"good\", \"hopeful\", \"lazy\", \"happy\", \"stress\", \"uncertain\", \"vulnerable\", \"tired\", \"ignored\", \"restless\", \"emotional\", \"bored\", \"determined\", \"creative\", \"jealous\", \"okay\", \"inspired\", \"regret\", \"engaged\", \"confused\", \"unmotivated\", \"average\", \"full\", \"pensive\", \"hungry\", \"flustered\", \"loss\", \"scared\", \"excited\", \"affectionate\", \"unsatisfied\", \"annoyed\", \"stable\", \"surprised\", \"sick\", \"panic\", \"angry\", \"anxious\", \"relief\", \"confidence\", \"disconnected\", \"healthy\", \"frustrated\", \"pain\", \"rude\"], \"type\": \"bar\", \"y\": [3, 3, 1, 14, 8, 0, 2, 2, 0, 7, 9, 1, 3, 4, 4, 0, 5, 5, 0, 1, 0, 1, 12, 1, 2, 0, 12, 1, 0, 3, 3, 1, 0, 0, 3, 1, 3, 1, 6, 3, 4, 0, 0, 1, 1, 1, 1, 4, 2, 0, 4, 0, 1, 3, 0, 5, 5, 1, 1, 2, 0, 0, 6, 0]}], {\"barmode\": \"group\", \"xaxis\": {\"titlefont\": {\"size\": 18}, \"title\": \"labels\", \"tickfont\": {\"color\": \"black\", \"size\": 14}, \"showexponent\": \"All\", \"tickangle\": 45, \"exponentformat\": \"e\", \"showticklabels\": true}}, {\"showLink\": true, \"linkText\": \"Export to plot.ly\"})});</script>"
      ],
      "text/plain": [
       "<IPython.core.display.HTML object>"
      ]
     },
     "metadata": {},
     "output_type": "display_data"
    }
   ],
   "source": [
    "confu_plot(res)"
   ]
  },
  {
   "cell_type": "markdown",
   "metadata": {},
   "source": [
    "### test model performance on misspelling"
   ]
  },
  {
   "cell_type": "code",
   "execution_count": 24,
   "metadata": {
    "collapsed": false
   },
   "outputs": [
    {
     "data": {
      "text/plain": [
       "(('__label__hungry',\n",
       "  '__label__sad',\n",
       "  '__label__surprised',\n",
       "  '__label__frustrated',\n",
       "  '__label__playful'),\n",
       " array([  1.00000000e+00,   1.95312652e-08,   1.95312652e-08,\n",
       "          1.95312652e-08,   1.95312652e-08]))"
      ]
     },
     "execution_count": 24,
     "metadata": {},
     "output_type": "execute_result"
    }
   ],
   "source": [
    "model.predict('hungry', 5)"
   ]
  },
  {
   "cell_type": "code",
   "execution_count": 25,
   "metadata": {
    "collapsed": false
   },
   "outputs": [
    {
     "data": {
      "text/plain": [
       "(('__label__calm',\n",
       "  '__label__emotionless',\n",
       "  '__label__unmotivated',\n",
       "  '__label__unsatisfied',\n",
       "  '__label__annoyed'),\n",
       " array([ 0.24414064,  0.18554689,  0.07812502,  0.06445314,  0.05859377]))"
      ]
     },
     "execution_count": 25,
     "metadata": {},
     "output_type": "execute_result"
    }
   ],
   "source": [
    "model.predict('huungry', 5)"
   ]
  },
  {
   "cell_type": "markdown",
   "metadata": {},
   "source": [
    "### test model performance on emoji "
   ]
  },
  {
   "cell_type": "code",
   "execution_count": 27,
   "metadata": {
    "collapsed": false
   },
   "outputs": [
    {
     "data": {
      "text/plain": [
       "(('__label__calm',\n",
       "  '__label__emotionless',\n",
       "  '__label__unmotivated',\n",
       "  '__label__unsatisfied',\n",
       "  '__label__annoyed'),\n",
       " array([ 0.24414064,  0.18750002,  0.07617191,  0.06640628,  0.05664065]))"
      ]
     },
     "execution_count": 27,
     "metadata": {},
     "output_type": "execute_result"
    }
   ],
   "source": [
    "model.predict('😋', 5)"
   ]
  },
  {
   "cell_type": "code",
   "execution_count": null,
   "metadata": {
    "collapsed": true
   },
   "outputs": [],
   "source": []
  }
 ],
 "metadata": {
  "anaconda-cloud": {},
  "kernelspec": {
   "display_name": "Python [Root]",
   "language": "python",
   "name": "Python [Root]"
  },
  "language_info": {
   "codemirror_mode": {
    "name": "ipython",
    "version": 3
   },
   "file_extension": ".py",
   "mimetype": "text/x-python",
   "name": "python",
   "nbconvert_exporter": "python",
   "pygments_lexer": "ipython3",
   "version": "3.5.1"
  }
 },
 "nbformat": 4,
 "nbformat_minor": 0
}
