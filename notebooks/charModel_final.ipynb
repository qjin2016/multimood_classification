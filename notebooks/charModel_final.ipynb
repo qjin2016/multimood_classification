{
 "cells": [
  {
   "cell_type": "markdown",
   "metadata": {},
   "source": [
    "### This notebook is used for developing charCNN model"
   ]
  },
  {
   "cell_type": "code",
   "execution_count": 1,
   "metadata": {
    "collapsed": false
   },
   "outputs": [
    {
     "name": "stderr",
     "output_type": "stream",
     "text": [
      "Using TensorFlow backend.\n"
     ]
    },
    {
     "data": {
      "text/html": [
       "<script>requirejs.config({paths: { 'plotly': ['https://cdn.plot.ly/plotly-latest.min']},});if(!window.Plotly) {{require(['plotly'],function(plotly) {window.Plotly=plotly;});}}</script>"
      ],
      "text/plain": [
       "<IPython.core.display.HTML object>"
      ]
     },
     "metadata": {},
     "output_type": "display_data"
    }
   ],
   "source": [
    "import pandas as pd\n",
    "import numpy as np\n",
    "import matplotlib.pyplot as plt\n",
    "%matplotlib inline  \n",
    "\n",
    "from keras.models import Model, load_model\n",
    "from keras.layers import Dense, Input, Dropout, MaxPooling1D, Conv1D, GlobalMaxPool1D, BatchNormalization\n",
    "from keras.layers import LSTM, Lambda, concatenate\n",
    "import keras.backend as K\n",
    "import tensorflow as tf\n",
    "import keras.callbacks\n",
    "\n",
    "import plotly\n",
    "import plotly.plotly as py\n",
    "import plotly.graph_objs as go\n",
    "plotly.offline.init_notebook_mode(connected=True)"
   ]
  },
  {
   "cell_type": "markdown",
   "metadata": {},
   "source": [
    "## Data Processing"
   ]
  },
  {
   "cell_type": "code",
   "execution_count": 2,
   "metadata": {
    "collapsed": false
   },
   "outputs": [
    {
     "data": {
      "text/plain": [
       "(3561, 6)"
      ]
     },
     "execution_count": 2,
     "metadata": {},
     "output_type": "execute_result"
    }
   ],
   "source": [
    "# load data\n",
    "empathies = pd.read_csv('./empathies.csv')\n",
    "msg = pd.read_csv('./msg_fasttext.csv')\n",
    "msg.shape"
   ]
  },
  {
   "cell_type": "code",
   "execution_count": 3,
   "metadata": {
    "collapsed": true
   },
   "outputs": [],
   "source": [
    "# drop irrelevant columns\n",
    "msg = msg.drop(msg.columns[0:2], axis=1)"
   ]
  },
  {
   "cell_type": "code",
   "execution_count": 4,
   "metadata": {
    "collapsed": true
   },
   "outputs": [],
   "source": [
    "# get a set of all the characters in the data\n",
    "char_set = set()\n",
    "for ms in msg['message']:\n",
    "    for ch in ms:\n",
    "        char_set.add(ch)"
   ]
  },
  {
   "cell_type": "code",
   "execution_count": 5,
   "metadata": {
    "collapsed": true
   },
   "outputs": [],
   "source": [
    "# get a map of character and its corresponding index\n",
    "char_indices = dict((c, i) for i, c in enumerate(char_set))\n",
    "indices_char = dict((i, c) for i, c in enumerate(char_set))"
   ]
  },
  {
   "cell_type": "code",
   "execution_count": 6,
   "metadata": {
    "collapsed": true
   },
   "outputs": [],
   "source": [
    "# one-hot encoding of labels\n",
    "sentiments = np.zeros((msg.shape[0], empathies.shape[0]), dtype = np.int64)\n",
    "i = 0\n",
    "for emps in msg['empathy']:\n",
    "    for emp in emps.split(','):\n",
    "        emp = emp.strip()\n",
    "        try:\n",
    "            idx = empathies[empathies['empathy'] == emp].index[0]\n",
    "            sentiments[i][idx] = 1\n",
    "        except:\n",
    "            print(emp)\n",
    "    i += 1"
   ]
  },
  {
   "cell_type": "code",
   "execution_count": 7,
   "metadata": {
    "collapsed": false
   },
   "outputs": [
    {
     "data": {
      "text/plain": [
       "101"
      ]
     },
     "execution_count": 7,
     "metadata": {},
     "output_type": "execute_result"
    }
   ],
   "source": [
    "# number of unique characters\n",
    "len(char_indices)"
   ]
  },
  {
   "cell_type": "code",
   "execution_count": 8,
   "metadata": {
    "collapsed": false
   },
   "outputs": [],
   "source": [
    "y = sentiments.copy()"
   ]
  },
  {
   "cell_type": "code",
   "execution_count": 9,
   "metadata": {
    "collapsed": true
   },
   "outputs": [],
   "source": [
    "# transform original data into character index format\n",
    "max_len = 100\n",
    "X = np.zeros((msg.shape[0], max_len), dtype=np.int64)\n",
    "\n",
    "for i, sen in enumerate(msg['message']):\n",
    "    for j, ch in enumerate(sen):\n",
    "        if j < max_len:\n",
    "            X[i, max_len-1-j] = char_indices[ch]"
   ]
  },
  {
   "cell_type": "code",
   "execution_count": 10,
   "metadata": {
    "collapsed": true
   },
   "outputs": [],
   "source": [
    "# split into training and validation data\n",
    "X_train = X[:2500]\n",
    "X_test = X[2500:]\n",
    "\n",
    "y_train = y[:2500]\n",
    "y_test = y[2500:]\n",
    "\n",
    "# dimension of character embedding\n",
    "char_embedding = 100"
   ]
  },
  {
   "cell_type": "markdown",
   "metadata": {},
   "source": [
    "## Model Setup & Training"
   ]
  },
  {
   "cell_type": "code",
   "execution_count": 11,
   "metadata": {
    "collapsed": true
   },
   "outputs": [],
   "source": [
    "# used for embedding layer\n",
    "def binarize(x, sz=100):\n",
    "    '''\n",
    "    sz: embedding size\n",
    "    '''\n",
    "    import tensorflow as tf\n",
    "    return tf.to_float(tf.one_hot(x, sz, on_value=1, off_value=0, axis=-1))\n",
    "\n",
    "\n",
    "def binarize_outshape(in_shape):\n",
    "    return in_shape[0], in_shape[1], 100"
   ]
  },
  {
   "cell_type": "code",
   "execution_count": 12,
   "metadata": {
    "collapsed": true
   },
   "outputs": [],
   "source": [
    "def char_block(in_layer, nb_filter=(64, 100), filter_length=(3, 3), subsample=(2, 1), pool_length=(2, 2)):\n",
    "    block = in_layer\n",
    "    for i in range(len(nb_filter)):\n",
    "\n",
    "        block = Conv1D(filters=nb_filter[i],\n",
    "                       kernel_size=filter_length[i],\n",
    "                       padding='valid',\n",
    "                       activation='tanh',\n",
    "                       strides=subsample[i])(block)\n",
    "\n",
    "#         block = BatchNormalization()(block)\n",
    "#         block = Dropout(0.2)(block)\n",
    "        if pool_length[i]:\n",
    "            block = MaxPooling1D(pool_size=pool_length[i])(block)\n",
    "\n",
    "    # block = Lambda(max_1d, output_shape=(nb_filter[-1],))(block)\n",
    "    block = GlobalMaxPool1D()(block)\n",
    "    block = Dense(128, activation='relu')(block)\n",
    "    return block"
   ]
  },
  {
   "cell_type": "code",
   "execution_count": 13,
   "metadata": {
    "collapsed": true
   },
   "outputs": [],
   "source": [
    "max_features = len(char_set) + 1"
   ]
  },
  {
   "cell_type": "code",
   "execution_count": 14,
   "metadata": {
    "collapsed": true
   },
   "outputs": [],
   "source": [
    "in_sentence = Input(shape=(max_len,), dtype='int64')"
   ]
  },
  {
   "cell_type": "code",
   "execution_count": 15,
   "metadata": {
    "collapsed": true
   },
   "outputs": [],
   "source": [
    "embedded = Lambda(binarize, output_shape=binarize_outshape)(in_sentence)"
   ]
  },
  {
   "cell_type": "code",
   "execution_count": 16,
   "metadata": {
    "collapsed": false
   },
   "outputs": [],
   "source": [
    "block2 = char_block(embedded, (128, 256), filter_length=(5, 5), subsample=(1, 1), pool_length=(2, 2))\n",
    "block3 = char_block(embedded, (192, 320), filter_length=(7, 5), subsample=(1, 1), pool_length=(2, 2))\n",
    "\n",
    "sent_encode = concatenate([block2, block3], axis=-1)"
   ]
  },
  {
   "cell_type": "code",
   "execution_count": 17,
   "metadata": {
    "collapsed": false
   },
   "outputs": [],
   "source": [
    "output = Dense(64, activation='softmax')(sent_encode)"
   ]
  },
  {
   "cell_type": "code",
   "execution_count": 18,
   "metadata": {
    "collapsed": false
   },
   "outputs": [
    {
     "name": "stdout",
     "output_type": "stream",
     "text": [
      "____________________________________________________________________________________________________\n",
      "Layer (type)                     Output Shape          Param #     Connected to                     \n",
      "====================================================================================================\n",
      "input_1 (InputLayer)             (None, 100)           0                                            \n",
      "____________________________________________________________________________________________________\n",
      "lambda_1 (Lambda)                (None, 100, 100)      0           input_1[0][0]                    \n",
      "____________________________________________________________________________________________________\n",
      "conv1d_1 (Conv1D)                (None, 96, 128)       64128       lambda_1[0][0]                   \n",
      "____________________________________________________________________________________________________\n",
      "conv1d_3 (Conv1D)                (None, 94, 192)       134592      lambda_1[0][0]                   \n",
      "____________________________________________________________________________________________________\n",
      "max_pooling1d_1 (MaxPooling1D)   (None, 48, 128)       0           conv1d_1[0][0]                   \n",
      "____________________________________________________________________________________________________\n",
      "max_pooling1d_3 (MaxPooling1D)   (None, 47, 192)       0           conv1d_3[0][0]                   \n",
      "____________________________________________________________________________________________________\n",
      "conv1d_2 (Conv1D)                (None, 44, 256)       164096      max_pooling1d_1[0][0]            \n",
      "____________________________________________________________________________________________________\n",
      "conv1d_4 (Conv1D)                (None, 43, 320)       307520      max_pooling1d_3[0][0]            \n",
      "____________________________________________________________________________________________________\n",
      "max_pooling1d_2 (MaxPooling1D)   (None, 22, 256)       0           conv1d_2[0][0]                   \n",
      "____________________________________________________________________________________________________\n",
      "max_pooling1d_4 (MaxPooling1D)   (None, 21, 320)       0           conv1d_4[0][0]                   \n",
      "____________________________________________________________________________________________________\n",
      "global_max_pooling1d_1 (GlobalMa (None, 256)           0           max_pooling1d_2[0][0]            \n",
      "____________________________________________________________________________________________________\n",
      "global_max_pooling1d_2 (GlobalMa (None, 320)           0           max_pooling1d_4[0][0]            \n",
      "____________________________________________________________________________________________________\n",
      "dense_1 (Dense)                  (None, 128)           32896       global_max_pooling1d_1[0][0]     \n",
      "____________________________________________________________________________________________________\n",
      "dense_2 (Dense)                  (None, 128)           41088       global_max_pooling1d_2[0][0]     \n",
      "____________________________________________________________________________________________________\n",
      "concatenate_1 (Concatenate)      (None, 256)           0           dense_1[0][0]                    \n",
      "                                                                   dense_2[0][0]                    \n",
      "____________________________________________________________________________________________________\n",
      "dense_3 (Dense)                  (None, 64)            16448       concatenate_1[0][0]              \n",
      "====================================================================================================\n",
      "Total params: 760,768\n",
      "Trainable params: 760,768\n",
      "Non-trainable params: 0\n",
      "____________________________________________________________________________________________________\n"
     ]
    }
   ],
   "source": [
    "model = Model(inputs=in_sentence, outputs=output)\n",
    "model.summary()"
   ]
  },
  {
   "cell_type": "code",
   "execution_count": 19,
   "metadata": {
    "collapsed": true
   },
   "outputs": [],
   "source": [
    "earlystop_cb = keras.callbacks.EarlyStopping(monitor='val_loss', patience=5, verbose=0, mode='auto')\n",
    "\n",
    "optimizer = 'adam'\n",
    "\n",
    "model.compile(loss='categorical_crossentropy', optimizer=optimizer, metrics=['accuracy'])"
   ]
  },
  {
   "cell_type": "code",
   "execution_count": 20,
   "metadata": {
    "collapsed": false
   },
   "outputs": [
    {
     "name": "stdout",
     "output_type": "stream",
     "text": [
      "Train on 2500 samples, validate on 1061 samples\n",
      "Epoch 1/30\n",
      "2500/2500 [==============================] - 19s - loss: 5.2398 - acc: 0.0544 - val_loss: 5.0655 - val_acc: 0.0980\n",
      "Epoch 2/30\n",
      "2500/2500 [==============================] - 20s - loss: 4.8687 - acc: 0.1176 - val_loss: 4.8383 - val_acc: 0.1527\n",
      "Epoch 3/30\n",
      "2500/2500 [==============================] - 20s - loss: 4.6107 - acc: 0.1752 - val_loss: 4.5981 - val_acc: 0.1932\n",
      "Epoch 4/30\n",
      "2500/2500 [==============================] - 22s - loss: 4.3243 - acc: 0.2384 - val_loss: 4.3504 - val_acc: 0.2762\n",
      "Epoch 5/30\n",
      "2500/2500 [==============================] - 22s - loss: 4.0350 - acc: 0.3188 - val_loss: 4.1267 - val_acc: 0.3186\n",
      "Epoch 6/30\n",
      "2500/2500 [==============================] - 24s - loss: 3.7449 - acc: 0.3592 - val_loss: 3.9239 - val_acc: 0.3516\n",
      "Epoch 7/30\n",
      "2500/2500 [==============================] - 26s - loss: 3.4692 - acc: 0.4224 - val_loss: 3.7656 - val_acc: 0.3657\n",
      "Epoch 8/30\n",
      "2500/2500 [==============================] - 25s - loss: 3.1837 - acc: 0.4712 - val_loss: 3.6141 - val_acc: 0.3845\n",
      "Epoch 9/30\n",
      "2500/2500 [==============================] - 26s - loss: 2.9127 - acc: 0.5084 - val_loss: 3.4631 - val_acc: 0.4119\n",
      "Epoch 10/30\n",
      "2500/2500 [==============================] - 24s - loss: 2.6611 - acc: 0.5432 - val_loss: 3.3984 - val_acc: 0.4232\n",
      "Epoch 11/30\n",
      "2500/2500 [==============================] - 20s - loss: 2.4283 - acc: 0.5788 - val_loss: 3.2685 - val_acc: 0.4270\n",
      "Epoch 12/30\n",
      "2500/2500 [==============================] - 19s - loss: 2.1734 - acc: 0.6176 - val_loss: 3.2173 - val_acc: 0.4430\n",
      "Epoch 13/30\n",
      "2500/2500 [==============================] - 21s - loss: 1.9574 - acc: 0.6504 - val_loss: 3.1769 - val_acc: 0.4571\n",
      "Epoch 14/30\n",
      "2500/2500 [==============================] - 25s - loss: 1.7623 - acc: 0.6848 - val_loss: 3.1136 - val_acc: 0.4599\n",
      "Epoch 15/30\n",
      "2500/2500 [==============================] - 26s - loss: 1.5743 - acc: 0.7148 - val_loss: 3.0802 - val_acc: 0.4713\n",
      "Epoch 16/30\n",
      "2500/2500 [==============================] - 20s - loss: 1.4048 - acc: 0.7428 - val_loss: 3.0552 - val_acc: 0.4722\n",
      "Epoch 17/30\n",
      "2500/2500 [==============================] - 20s - loss: 1.2697 - acc: 0.7548 - val_loss: 3.0631 - val_acc: 0.4694\n",
      "Epoch 18/30\n",
      "2500/2500 [==============================] - 18s - loss: 1.1496 - acc: 0.7768 - val_loss: 3.0464 - val_acc: 0.4863\n",
      "Epoch 19/30\n",
      "2500/2500 [==============================] - 25s - loss: 1.0412 - acc: 0.8008 - val_loss: 3.0236 - val_acc: 0.4779\n",
      "Epoch 20/30\n",
      "2500/2500 [==============================] - 21s - loss: 0.9575 - acc: 0.8084 - val_loss: 3.0393 - val_acc: 0.4835\n",
      "Epoch 21/30\n",
      "2500/2500 [==============================] - 20s - loss: 0.8876 - acc: 0.8124 - val_loss: 3.0651 - val_acc: 0.4901\n",
      "Epoch 22/30\n",
      "2500/2500 [==============================] - 21s - loss: 0.8339 - acc: 0.8220 - val_loss: 3.0980 - val_acc: 0.4854\n",
      "Epoch 23/30\n",
      "2500/2500 [==============================] - 22s - loss: 0.7972 - acc: 0.8276 - val_loss: 3.0684 - val_acc: 0.4901\n",
      "Epoch 24/30\n",
      "2500/2500 [==============================] - 20s - loss: 0.7648 - acc: 0.8300 - val_loss: 3.1329 - val_acc: 0.4901\n",
      "Epoch 25/30\n",
      "2500/2500 [==============================] - 20s - loss: 0.7419 - acc: 0.8300 - val_loss: 3.1266 - val_acc: 0.4948\n"
     ]
    },
    {
     "data": {
      "text/plain": [
       "<keras.callbacks.History at 0x10b999ba8>"
      ]
     },
     "execution_count": 20,
     "metadata": {},
     "output_type": "execute_result"
    }
   ],
   "source": [
    "# training\n",
    "model.fit(X_train, y_train, validation_data=(X_test, y_test), batch_size=256, epochs=30, \n",
    "          shuffle=True, callbacks=[earlystop_cb])"
   ]
  },
  {
   "cell_type": "code",
   "execution_count": 21,
   "metadata": {
    "collapsed": false
   },
   "outputs": [],
   "source": [
    "# model.save('./charModel_final.h5')\n",
    "# model = load_model('./charModel_final.h5')"
   ]
  },
  {
   "cell_type": "code",
   "execution_count": 30,
   "metadata": {
    "collapsed": false
   },
   "outputs": [],
   "source": [
    "# prediction\n",
    "train_preds = model.predict(X_train)\n",
    "test_preds = model.predict(X_test)"
   ]
  },
  {
   "cell_type": "markdown",
   "metadata": {},
   "source": [
    "## Metrics (relaxed, nonrelaxed & bar-chart)"
   ]
  },
  {
   "cell_type": "code",
   "execution_count": 31,
   "metadata": {
    "collapsed": true
   },
   "outputs": [],
   "source": [
    "# get a map that contains empathy and its corresponding polarity score, this map will be used to compute metrics\n",
    "dict_polarities = {}\n",
    "for i in range(empathies.shape[0]):\n",
    "    dict_polarities[empathies.iloc[i][0]] = float(empathies.iloc[i][1])"
   ]
  },
  {
   "cell_type": "markdown",
   "metadata": {},
   "source": [
    "The following function is used to compare against the ground truth in a **relaxed**  format, which means if the predicted class is not exactly the same as the truth, but has the same polarity score. The prediction will still be counted as truth positive\n",
    "\n",
    "The output is a dictionary contained label: number of true positives, false positives and false negatives\n",
    "the output will be used for calculating overall precision, recall and F1 score"
   ]
  },
  {
   "cell_type": "code",
   "execution_count": 32,
   "metadata": {
    "collapsed": true
   },
   "outputs": [],
   "source": [
    "def compare_truth_relaxed(cutoff_value, dict_polarities, model, inputs, all_preds, start, stop):\n",
    "    '''\n",
    "    output: {label: [TP, FP, FN]}\n",
    "    '''\n",
    "    label_s = list(dict_polarities.keys())\n",
    "    res = {}\n",
    "    \n",
    "    for l in label_s:\n",
    "        # True Positives, False Positives, False Negatives\n",
    "        res[l] = [0, 0, 0]\n",
    "    \n",
    "    j = -1\n",
    "    for i in range(start, stop):\n",
    "        j += 1\n",
    "        preds = all_preds[j]\n",
    "        true_scores = [dict_polarities[la.strip()] for la in msg.iloc[i]['empathy'].split(',') if la != '']\n",
    "        \n",
    "        # store predicted labels and the corresponding polarity score\n",
    "        pred_labs, scores  = [], []\n",
    "        preds = [list(empathies['empathy'][np.argsort(preds)[63:58:-1]]), np.sort(preds)[63:58:-1]]\n",
    "        \n",
    "        idx = 0\n",
    "        for lab, p in zip(preds[0], preds[1]):\n",
    "            idx += 1\n",
    "            if p > cutoff_value or idx == 1:\n",
    "                pred_labs.append(lab)\n",
    "                scores.append(dict_polarities[lab])\n",
    "                if lab in msg.iloc[i]['empathy'] or dict_polarities[lab] in true_scores:\n",
    "                    # true positive\n",
    "                    res[lab][0] += 1\n",
    "                if lab not in msg.iloc[i]['empathy'] and dict_polarities[lab] not in true_scores:\n",
    "                    # false positive\n",
    "                    res[lab][1] += 1\n",
    "                \n",
    "        for true_lab in msg.iloc[i]['empathy'].split(','):\n",
    "            true_lab = true_lab.strip()\n",
    "            if true_lab != '' and true_lab != ' ' and true_lab not in pred_labs and dict_polarities[lab] not in scores:\n",
    "                # false negative\n",
    "                res[true_lab][2] += 1\n",
    "                \n",
    "    return res"
   ]
  },
  {
   "cell_type": "markdown",
   "metadata": {},
   "source": [
    "Similiar as the above function. The following function is used to compare against the ground truth, but in a **nonrelaxed** format -- the predicted class has to be exactly the same as the truth in order to be counted as true positive.\n",
    "\n",
    "The output is a dictionary contained label: number of true positives, false positives and false negatives\n",
    "the output will be used for calculating overall precision, recall and F1 score"
   ]
  },
  {
   "cell_type": "code",
   "execution_count": 33,
   "metadata": {
    "collapsed": true
   },
   "outputs": [],
   "source": [
    "def compare_truth_nonrelaxed(cutoff_value, dict_polarities, model, inputs, all_preds, start, stop):\n",
    "    '''\n",
    "    output: {label: [TP, FP, FN]}\n",
    "    '''\n",
    "    label_s = list(dict_polarities.keys())\n",
    "    res = {}\n",
    "    \n",
    "    for l in label_s:\n",
    "        # True Positives, False Positives, False Negatives\n",
    "        res[l] = [0, 0, 0]\n",
    "    \n",
    "    j = -1\n",
    "    for i in range(start, stop):\n",
    "        j += 1\n",
    "        preds = all_preds[j]\n",
    "        true_scores = [dict_polarities[la.strip()] for la in msg.iloc[i]['empathy'].split(',') if la != '']\n",
    "        \n",
    "        # store predicted labels and the corresponding polarity score\n",
    "        pred_labs, scores  = [], []\n",
    "        preds = [list(empathies['empathy'][np.argsort(preds)[63:58:-1]]), np.sort(preds)[63:58:-1]]\n",
    "        \n",
    "        for lab, p in zip(preds[0], preds[1]):\n",
    "            if p > cutoff_value:\n",
    "                pred_labs.append(lab)\n",
    "                scores.append(dict_polarities[lab])\n",
    "                print(lab)\n",
    "                if lab in msg.iloc[i]['empathy']:\n",
    "                    # true positive\n",
    "                    res[lab][0] += 1\n",
    "                if lab not in msg.iloc[i]['empathy']:\n",
    "                    # false positive\n",
    "                    res[lab][1] += 1\n",
    "                \n",
    "        for true_lab in msg.iloc[i]['empathy'].split(','):\n",
    "            true_lab = true_lab.strip()\n",
    "            if true_lab != '' and true_lab != ' ' and true_lab not in pred_labs:\n",
    "                # false negative\n",
    "                res[true_lab][2] += 1\n",
    "                \n",
    "    return res"
   ]
  },
  {
   "cell_type": "code",
   "execution_count": 34,
   "metadata": {
    "collapsed": true
   },
   "outputs": [],
   "source": [
    "def overall_score(res):\n",
    "    '''\n",
    "    output precision, recall and F1 score\n",
    "    '''\n",
    "    num_TP, num_FP, num_FN = 0, 0, 0\n",
    "    \n",
    "    for _, vals in res.items():\n",
    "        num_TP += vals[0]\n",
    "        num_FP += vals[1]\n",
    "        num_FN += vals[2]\n",
    "            \n",
    "    precision = num_TP/(num_TP+num_FP)\n",
    "    recall = num_TP/(num_TP+num_FN)\n",
    "    \n",
    "    return precision, recall, 2/(1/precision + 1/recall)"
   ]
  },
  {
   "cell_type": "code",
   "execution_count": 35,
   "metadata": {
    "collapsed": false
   },
   "outputs": [],
   "source": [
    "# explore the best cutoff value with the training data\n",
    "ps, rs, fs = [], [], []\n",
    "for proposed_cut in np.arange(.0, .6, .1):\n",
    "    res = compare_truth_relaxed(proposed_cut, dict_polarities, model, msg, train_preds, 0, 2500)\n",
    "    p, r, f = overall_score(res)\n",
    "    ps.append(p)\n",
    "    rs.append(rs)\n",
    "    fs.append(f)"
   ]
  },
  {
   "cell_type": "code",
   "execution_count": 36,
   "metadata": {
    "collapsed": false
   },
   "outputs": [
    {
     "data": {
      "image/png": "[encoded data removed]",
      "text/plain": [
       "<matplotlib.figure.Figure at 0x12411fc50>"
      ]
     },
     "metadata": {},
     "output_type": "display_data"
    }
   ],
   "source": [
    "# plot the change of F1 score as the cutoff value increases from 0.0 to 0.6\n",
    "proposed_cuts = np.arange(.0, .6, .1)\n",
    "# red dashes\n",
    "plt.plot(proposed_cuts, fs, 'r--')\n",
    "plt.show()"
   ]
  },
  {
   "cell_type": "code",
   "execution_count": 37,
   "metadata": {
    "collapsed": false
   },
   "outputs": [
    {
     "data": {
      "text/plain": [
       "0.20000000000000001"
      ]
     },
     "execution_count": 37,
     "metadata": {},
     "output_type": "execute_result"
    }
   ],
   "source": [
    "max_fs_idx = fs.index(max(fs))\n",
    "np.arange(.0, .6, .1)[max_fs_idx]"
   ]
  },
  {
   "cell_type": "code",
   "execution_count": 38,
   "metadata": {
    "collapsed": true
   },
   "outputs": [],
   "source": [
    "def confu_plot(con_matrix):\n",
    "    '''\n",
    "    generate bar-chart of true positives, false positives and false negatives for each class\n",
    "    '''\n",
    "    names = []\n",
    "    TP, FP, FN = [], [], []\n",
    "    for k, vals in con_matrix.items():\n",
    "        name=k.replace('__label__', '')\n",
    "        names.append(name)\n",
    "        TP.append(vals[0])\n",
    "        FP.append(vals[1])\n",
    "        FN.append(vals[2])\n",
    "\n",
    "    trace1 = go.Bar(\n",
    "        x=names,\n",
    "        y=TP,\n",
    "        name='True Positive'\n",
    "    )\n",
    "\n",
    "    trace2 = go.Bar(\n",
    "        x=names,\n",
    "        y=FP,\n",
    "        name='False Positive'\n",
    "    )\n",
    "\n",
    "    trace3 = go.Bar(\n",
    "        x=names,\n",
    "        y=FN,\n",
    "        name='False Negative'\n",
    "    )\n",
    "\n",
    "    data = [trace1, trace2, trace3]\n",
    "    layout = go.Layout(\n",
    "        barmode='group',\n",
    "\n",
    "        xaxis=dict(\n",
    "            title='labels',\n",
    "            titlefont=dict(\n",
    "                size=18,\n",
    "            ),\n",
    "            showticklabels=True,\n",
    "            tickangle=45,\n",
    "            tickfont=dict(\n",
    "                size=14,\n",
    "                color='black'\n",
    "            ),\n",
    "            exponentformat='e',\n",
    "            showexponent='All'\n",
    "        )\n",
    "    )\n",
    "\n",
    "    fig = go.Figure(data=data, layout=layout)\n",
    "    plotly.offline.iplot(fig, filename='grouped-bar') "
   ]
  },
  {
   "cell_type": "code",
   "execution_count": 39,
   "metadata": {
    "collapsed": true
   },
   "outputs": [],
   "source": [
    "res = compare_truth_relaxed(.2, dict_polarities, model, msg, test_preds, 2500, msg.shape[0])"
   ]
  },
  {
   "cell_type": "code",
   "execution_count": 40,
   "metadata": {
    "collapsed": false
   },
   "outputs": [
    {
     "data": {
      "text/plain": [
       "(0.6674509803921569, 0.6135544340302812, 0.6393688955672427)"
      ]
     },
     "execution_count": 40,
     "metadata": {},
     "output_type": "execute_result"
    }
   ],
   "source": [
    "overall_score(res)"
   ]
  },
  {
   "cell_type": "code",
   "execution_count": 41,
   "metadata": {
    "collapsed": false
   },
   "outputs": [
    {
     "data": {
      "text/html": [
       "<div id=\"56d37d34-f971-4084-a63b-eba0a49fd88f\" style=\"height: 525px; width: 100%;\" class=\"plotly-graph-div\"></div><script type=\"text/javascript\">require([\"plotly\"], function(Plotly) { window.PLOTLYENV=window.PLOTLYENV || {};window.PLOTLYENV.BASE_URL=\"https://plot.ly\";Plotly.newPlot(\"56d37d34-f971-4084-a63b-eba0a49fd88f\", [{\"name\": \"True Positive\", \"y\": [13, 2, 29, 11, 58, 17, 1, 1, 0, 1, 25, 7, 40, 18, 17, 24, 5, 19, 7, 24, 0, 10, 40, 2, 0, 12, 0, 3, 1, 9, 8, 0, 2, 12, 1, 3, 56, 9, 0, 48, 0, 47, 11, 0, 0, 7, 3, 2, 39, 0, 30, 2, 21, 10, 2, 1, 9, 4, 0, 3, 67, 32, 20, 6], \"type\": \"bar\", \"x\": [\"idk\", \"intoxicated\", \"annoyed\", \"hungry\", \"sad\", \"average\", \"jealous\", \"affectionate\", \"playful\", \"embarrassed\", \"emotionless\", \"scared\", \"anxious\", \"unmotivated\", \"determined\", \"stress\", \"lazy\", \"better\", \"pensive\", \"okay\", \"thirsty\", \"stable\", \"excited\", \"restless\", \"panic\", \"distortion\", \"regret\", \"relief\", \"upset\", \"uneasy\", \"disconnected\", \"sexy\", \"flustered\", \"confidence\", \"loved\", \"inspired\", \"tired\", \"confused\", \"rude\", \"calm\", \"creative\", \"depressed\", \"unsatisfied\", \"frustrated\", \"healthy\", \"loss\", \"full\", \"vulnerable\", \"sleep\", \"ignored\", \"lonely\", \"uncertain\", \"pain\", \"great\", \"despair\", \"hopeful\", \"good\", \"sick\", \"surprised\", \"emotional\", \"happy\", \"bored\", \"angry\", \"engaged\"]}, {\"name\": \"False Positive\", \"y\": [9, 3, 22, 0, 48, 19, 0, 2, 0, 0, 21, 3, 9, 10, 3, 8, 0, 14, 6, 20, 0, 7, 4, 0, 0, 7, 1, 1, 2, 6, 22, 2, 2, 5, 0, 2, 17, 16, 0, 30, 0, 9, 10, 0, 0, 2, 1, 2, 2, 0, 9, 3, 10, 6, 2, 0, 10, 2, 0, 1, 21, 5, 8, 0], \"type\": \"bar\", \"x\": [\"idk\", \"intoxicated\", \"annoyed\", \"hungry\", \"sad\", \"average\", \"jealous\", \"affectionate\", \"playful\", \"embarrassed\", \"emotionless\", \"scared\", \"anxious\", \"unmotivated\", \"determined\", \"stress\", \"lazy\", \"better\", \"pensive\", \"okay\", \"thirsty\", \"stable\", \"excited\", \"restless\", \"panic\", \"distortion\", \"regret\", \"relief\", \"upset\", \"uneasy\", \"disconnected\", \"sexy\", \"flustered\", \"confidence\", \"loved\", \"inspired\", \"tired\", \"confused\", \"rude\", \"calm\", \"creative\", \"depressed\", \"unsatisfied\", \"frustrated\", \"healthy\", \"loss\", \"full\", \"vulnerable\", \"sleep\", \"ignored\", \"lonely\", \"uncertain\", \"pain\", \"great\", \"despair\", \"hopeful\", \"good\", \"sick\", \"surprised\", \"emotional\", \"happy\", \"bored\", \"angry\", \"engaged\"]}, {\"name\": \"False Negative\", \"y\": [8, 9, 7, 0, 35, 16, 0, 7, 1, 10, 13, 8, 15, 8, 10, 9, 11, 2, 8, 21, 0, 3, 8, 2, 0, 14, 8, 11, 11, 10, 23, 5, 2, 9, 1, 1, 18, 19, 0, 20, 2, 6, 4, 0, 0, 8, 7, 9, 6, 2, 6, 7, 21, 6, 8, 2, 9, 9, 1, 5, 17, 8, 21, 9], \"type\": \"bar\", \"x\": [\"idk\", \"intoxicated\", \"annoyed\", \"hungry\", \"sad\", \"average\", \"jealous\", \"affectionate\", \"playful\", \"embarrassed\", \"emotionless\", \"scared\", \"anxious\", \"unmotivated\", \"determined\", \"stress\", \"lazy\", \"better\", \"pensive\", \"okay\", \"thirsty\", \"stable\", \"excited\", \"restless\", \"panic\", \"distortion\", \"regret\", \"relief\", \"upset\", \"uneasy\", \"disconnected\", \"sexy\", \"flustered\", \"confidence\", \"loved\", \"inspired\", \"tired\", \"confused\", \"rude\", \"calm\", \"creative\", \"depressed\", \"unsatisfied\", \"frustrated\", \"healthy\", \"loss\", \"full\", \"vulnerable\", \"sleep\", \"ignored\", \"lonely\", \"uncertain\", \"pain\", \"great\", \"despair\", \"hopeful\", \"good\", \"sick\", \"surprised\", \"emotional\", \"happy\", \"bored\", \"angry\", \"engaged\"]}], {\"barmode\": \"group\", \"xaxis\": {\"tickfont\": {\"color\": \"black\", \"size\": 14}, \"title\": \"labels\", \"showexponent\": \"All\", \"tickangle\": 45, \"showticklabels\": true, \"titlefont\": {\"size\": 18}, \"exponentformat\": \"e\"}}, {\"linkText\": \"Export to plot.ly\", \"showLink\": true})});</script>"
      ],
      "text/plain": [
       "<IPython.core.display.HTML object>"
      ]
     },
     "metadata": {},
     "output_type": "display_data"
    }
   ],
   "source": [
    "confu_plot(res)"
   ]
  },
  {
   "cell_type": "code",
   "execution_count": 42,
   "metadata": {
    "collapsed": true
   },
   "outputs": [],
   "source": [
    "# used for transform a string into the acceptable format for the model\n",
    "def text_processor(input_str, char_indices, max_len = 100):\n",
    "    '''\n",
    "    ---\n",
    "    args:\n",
    "        input_str: an input string\n",
    "        char_indices: map of character index calculated from above\n",
    "        max_len: the length of input that the model accepts\n",
    "    ---\n",
    "    return:\n",
    "       padded sequence for the model \n",
    "    '''\n",
    "    sen2input = np.zeros((1, max_len), dtype=np.int64)\n",
    "    \n",
    "    for j, ch in enumerate(input_str):\n",
    "        if j < max_len:\n",
    "            sen2input[0, max_len-1-j] = char_indices[ch]\n",
    "    \n",
    "    return sen2input"
   ]
  },
  {
   "cell_type": "code",
   "execution_count": 43,
   "metadata": {
    "collapsed": false
   },
   "outputs": [
    {
     "data": {
      "text/plain": [
       "[['hungry', 'angry', 'annoyed', 'sad', 'uneasy'],\n",
       " array([ 0.68242598,  0.26267356,  0.01349587,  0.0098852 ,  0.00448579], dtype=float32)]"
      ]
     },
     "execution_count": 43,
     "metadata": {},
     "output_type": "execute_result"
    }
   ],
   "source": [
    "random_input = text_processor('huuungry', char_indices)\n",
    "random_pred = model.predict(random_input)\n",
    "[list(empathies['empathy'][np.argsort(random_pred)[0][63:58:-1]]), np.sort(random_pred)[0][63:58:-1]]"
   ]
  },
  {
   "cell_type": "code",
   "execution_count": null,
   "metadata": {
    "collapsed": true
   },
   "outputs": [],
   "source": []
  }
 ],
 "metadata": {
  "kernelspec": {
   "display_name": "Python [Root]",
   "language": "python",
   "name": "Python [Root]"
  },
  "language_info": {
   "codemirror_mode": {
    "name": "ipython",
    "version": 3
   },
   "file_extension": ".py",
   "mimetype": "text/x-python",
   "name": "python",
   "nbconvert_exporter": "python",
   "pygments_lexer": "ipython3",
   "version": "3.5.1"
  }
 },
 "nbformat": 4,
 "nbformat_minor": 0
}
