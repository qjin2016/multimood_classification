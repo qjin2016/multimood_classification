{
 "cells": [
  {
   "cell_type": "markdown",
   "metadata": {},
   "source": [
    "### This notebook is used for developing modified fastText model -- fastText2"
   ]
  },
  {
   "cell_type": "code",
   "execution_count": 1,
   "metadata": {
    "collapsed": false
   },
   "outputs": [
    {
     "name": "stderr",
     "output_type": "stream",
     "text": [
      "Using TensorFlow backend.\n"
     ]
    },
    {
     "data": {
      "text/html": [
       "<script>requirejs.config({paths: { 'plotly': ['https://cdn.plot.ly/plotly-latest.min']},});if(!window.Plotly) {{require(['plotly'],function(plotly) {window.Plotly=plotly;});}}</script>"
      ],
      "text/plain": [
       "<IPython.core.display.HTML object>"
      ]
     },
     "metadata": {},
     "output_type": "display_data"
    }
   ],
   "source": [
    "import numpy as np\n",
    "import pandas as pd\n",
    "\n",
    "import matplotlib.pyplot as plt\n",
    "%matplotlib inline\n",
    "\n",
    "import keras\n",
    "from keras.models import Sequential\n",
    "from keras.preprocessing.sequence import pad_sequences\n",
    "from keras.layers import Dense,Embedding, Activation, GlobalAveragePooling1D\n",
    "from keras.models import load_model\n",
    "from keras.callbacks import EarlyStopping\n",
    "\n",
    "import plotly\n",
    "import plotly.plotly as py\n",
    "import plotly.graph_objs as go\n",
    "plotly.offline.init_notebook_mode(connected=True)\n",
    "\n",
    "from nltk.tokenize.casual import TweetTokenizer"
   ]
  },
  {
   "cell_type": "markdown",
   "metadata": {},
   "source": [
    "## Data Processing"
   ]
  },
  {
   "cell_type": "code",
   "execution_count": 2,
   "metadata": {
    "collapsed": false
   },
   "outputs": [
    {
     "data": {
      "text/plain": [
       "(3561, 6)"
      ]
     },
     "execution_count": 2,
     "metadata": {},
     "output_type": "execute_result"
    }
   ],
   "source": [
    "# loading data\n",
    "empathies = pd.read_csv('./empathies.csv')\n",
    "msg = pd.read_csv('./msg_fasttext.csv')\n",
    "msg.shape"
   ]
  },
  {
   "cell_type": "code",
   "execution_count": 3,
   "metadata": {
    "collapsed": true
   },
   "outputs": [],
   "source": [
    "# drop irrelevant columns\n",
    "msg = msg.drop(msg.columns[0:2], axis=1)"
   ]
  },
  {
   "cell_type": "code",
   "execution_count": 4,
   "metadata": {
    "collapsed": true
   },
   "outputs": [],
   "source": [
    "# use NLTK TweetTokenizer to tokenize data. The TweetTokenizer is able to recognize emoji\n",
    "sentences_tokens = []\n",
    "for m in msg['message']:\n",
    "    tokens = TweetTokenizer().tokenize(m.lower())\n",
    "    sentences_tokens.append(tokens)"
   ]
  },
  {
   "cell_type": "code",
   "execution_count": 5,
   "metadata": {
    "collapsed": true
   },
   "outputs": [],
   "source": [
    "# obain a set of all the tokens\n",
    "token_set = []\n",
    "for sen in sentences_tokens:\n",
    "    for tok in sen:\n",
    "        if tok not in token_set:\n",
    "            token_set.append(tok)"
   ]
  },
  {
   "cell_type": "code",
   "execution_count": 6,
   "metadata": {
    "collapsed": false
   },
   "outputs": [
    {
     "data": {
      "text/plain": [
       "2196"
      ]
     },
     "execution_count": 6,
     "metadata": {},
     "output_type": "execute_result"
    }
   ],
   "source": [
    "len(token_set)"
   ]
  },
  {
   "cell_type": "code",
   "execution_count": 12,
   "metadata": {
    "collapsed": true
   },
   "outputs": [],
   "source": [
    "# indexing tokens\n",
    "token_indices = dict((c, i) for i, c in enumerate(token_set))\n",
    "indices_token = dict((i, c) for i, c in enumerate(token_set))"
   ]
  },
  {
   "cell_type": "code",
   "execution_count": 13,
   "metadata": {
    "collapsed": true
   },
   "outputs": [],
   "source": [
    "# transform original input data into token index\n",
    "max_len = 128\n",
    "X = []\n",
    "\n",
    "for i, sen in enumerate(sentences_tokens):\n",
    "    sen2token = []\n",
    "    for j, tok in enumerate(sen):\n",
    "        if j < max_len:\n",
    "            sen2token.append(token_indices[tok])\n",
    "    X.append(sen2token)"
   ]
  },
  {
   "cell_type": "code",
   "execution_count": 14,
   "metadata": {
    "collapsed": true
   },
   "outputs": [],
   "source": [
    "# code borrowed from https://github.com/fchollet/keras/blob/master/examples/imdb_fasttext.py\n",
    "def create_ngram_set(input_list, ngram_value):\n",
    "    \"\"\"\n",
    "    Extract a set of n-grams from a list of integers.\n",
    "    >>> create_ngram_set([1, 4, 9, 4, 1, 4], ngram_value=2)\n",
    "    {(4, 9), (4, 1), (1, 4), (9, 4)}\n",
    "    >>> create_ngram_set([1, 4, 9, 4, 1, 4], ngram_value=3)\n",
    "    [(1, 4, 9), (4, 9, 4), (9, 4, 1), (4, 1, 4)]\n",
    "    \"\"\"\n",
    "    return set(zip(*[input_list[i:] for i in range(ngram_value)]))"
   ]
  },
  {
   "cell_type": "code",
   "execution_count": 15,
   "metadata": {
    "collapsed": true
   },
   "outputs": [],
   "source": [
    "# code borrowed from https://github.com/fchollet/keras/blob/master/examples/imdb_fasttext.py\n",
    "def add_ngram(sequences, token_indice, ngram_range):\n",
    "    \"\"\"\n",
    "    Augment the input list of list (sequences) by appending n-grams values.\n",
    "    Example: adding bi-gram\n",
    "    >>> sequences = [[1, 3, 4, 5], [1, 3, 7, 9, 2]]\n",
    "    >>> token_indice = {(1, 3): 1337, (9, 2): 42, (4, 5): 2017}\n",
    "    >>> add_ngram(sequences, token_indice, ngram_range=2)\n",
    "    [[1, 3, 4, 5, 1337, 2017], [1, 3, 7, 9, 2, 1337, 42]]\n",
    "    Example: adding tri-gram\n",
    "    >>> sequences = [[1, 3, 4, 5], [1, 3, 7, 9, 2]]\n",
    "    >>> token_indice = {(1, 3): 1337, (9, 2): 42, (4, 5): 2017, (7, 9, 2): 2018}\n",
    "    >>> add_ngram(sequences, token_indice, ngram_range=3)\n",
    "    [[1, 3, 4, 5, 1337], [1, 3, 7, 9, 2, 1337, 2018]]\n",
    "    \"\"\"\n",
    "    new_sequences = []\n",
    "    for input_list in sequences:\n",
    "        new_list = input_list[:]\n",
    "        for i in range(len(new_list) - ngram_range + 1):\n",
    "            for ngram_value in range(2, ngram_range + 1):\n",
    "                ngram = tuple(new_list[i:i + ngram_value])\n",
    "                if ngram in token_indice:\n",
    "                    new_list.append(token_indice[ngram])\n",
    "        new_sequences.append(new_list)\n",
    "\n",
    "    return new_sequences"
   ]
  },
  {
   "cell_type": "code",
   "execution_count": 16,
   "metadata": {
    "collapsed": true
   },
   "outputs": [],
   "source": [
    "ngram_range = 3"
   ]
  },
  {
   "cell_type": "code",
   "execution_count": 17,
   "metadata": {
    "collapsed": false
   },
   "outputs": [
    {
     "name": "stdout",
     "output_type": "stream",
     "text": [
      "Adding 3-gram features\n",
      "Average sequence length: 11\n"
     ]
    }
   ],
   "source": [
    "# code modified from https://github.com/fchollet/keras/blob/master/examples/imdb_fasttext.py\n",
    "max_features = len(token_set)\n",
    "\n",
    "if ngram_range > 1:\n",
    "    print('Adding {}-gram features'.format(ngram_range))\n",
    "    # Create set of unique n-gram from the training set.\n",
    "    ngram_set = set()\n",
    "    for input_list in X:\n",
    "        for i in range(2, ngram_range + 1):\n",
    "            set_of_ngram = create_ngram_set(input_list, ngram_value=i)\n",
    "            ngram_set.update(set_of_ngram)\n",
    "\n",
    "    # Dictionary mapping n-gram token to a unique integer.\n",
    "    # Integer values are greater than max_features in order\n",
    "    # to avoid collision with existing features.\n",
    "    start_index = max_features + 1\n",
    "    token_indice2 = {v: k + start_index for k, v in enumerate(ngram_set)}\n",
    "    indice_token2 = {token_indice2[k]: k for k in token_indice2}\n",
    "    \n",
    "\n",
    "    # max_features is the highest integer that could be found in the dataset.\n",
    "    max_features = np.max(list(indice_token2.keys())) + 1\n",
    "\n",
    "    # Augmenting x_train and x_test with n-grams features\n",
    "    X_ft = add_ngram(X, token_indice2, ngram_range)\n",
    "    print('Average sequence length: {}'.format(np.mean(list(map(len, X_ft)), dtype=int)))"
   ]
  },
  {
   "cell_type": "code",
   "execution_count": 18,
   "metadata": {
    "collapsed": true
   },
   "outputs": [],
   "source": [
    "# padding input data\n",
    "X_padding = pad_sequences(X, maxlen = 128)"
   ]
  },
  {
   "cell_type": "code",
   "execution_count": 19,
   "metadata": {
    "collapsed": true
   },
   "outputs": [],
   "source": [
    "# get training and testing data\n",
    "train_padding = X_padding[:2500]\n",
    "test_padding = X_padding[2500:]"
   ]
  },
  {
   "cell_type": "code",
   "execution_count": 20,
   "metadata": {
    "collapsed": true
   },
   "outputs": [],
   "source": [
    "# get ground truth\n",
    "sentiments = np.zeros((msg.shape[0], empathies.shape[0]), dtype = np.int64)\n",
    "i = 0\n",
    "for emps in msg['empathy']:\n",
    "    for emp in emps.split(','):\n",
    "        emp = emp.strip()\n",
    "        try:\n",
    "            idx = empathies[empathies['empathy'] == emp].index[0]\n",
    "            sentiments[i][idx] = 1\n",
    "        except:\n",
    "            print(emp)\n",
    "    i += 1"
   ]
  },
  {
   "cell_type": "code",
   "execution_count": 21,
   "metadata": {
    "collapsed": true
   },
   "outputs": [],
   "source": [
    "train_y = sentiments[:2500]\n",
    "test_y = sentiments[2500:]"
   ]
  },
  {
   "cell_type": "markdown",
   "metadata": {},
   "source": [
    "## Model Setup & Training"
   ]
  },
  {
   "cell_type": "code",
   "execution_count": 22,
   "metadata": {
    "collapsed": true
   },
   "outputs": [],
   "source": [
    "# fastText model\n",
    "# code modified from https://github.com/fchollet/keras/blob/master/examples/imdb_fasttext.py\n",
    "\n",
    "EMBEDDING_DIM = 100\n",
    "\n",
    "model = Sequential()\n",
    "\n",
    "# we start off with an efficient embedding layer which maps\n",
    "# our vocab indices into embedding_dims dimensions\n",
    "model.add(Embedding(max_features,\n",
    "                    EMBEDDING_DIM,\n",
    "                    input_length = 128))\n",
    "\n",
    "# we add a GlobalAveragePooling1D, which will average the embeddings\n",
    "# of all words in the document\n",
    "model.add(GlobalAveragePooling1D())\n",
    "\n",
    "# We project onto a single unit output layer, and squash it with a sigmoid:\n",
    "model.add(Dense(64, activation='softmax'))\n",
    "\n",
    "adam = keras.optimizers.Adam(lr=0.05)\n",
    "\n",
    "model.compile(loss='categorical_crossentropy',\n",
    "              optimizer=adam,\n",
    "              metrics=['accuracy'])"
   ]
  },
  {
   "cell_type": "code",
   "execution_count": 23,
   "metadata": {
    "collapsed": false
   },
   "outputs": [
    {
     "name": "stdout",
     "output_type": "stream",
     "text": [
      "_________________________________________________________________\n",
      "Layer (type)                 Output Shape              Param #   \n",
      "=================================================================\n",
      "embedding_1 (Embedding)      (None, 128, 100)          1958500   \n",
      "_________________________________________________________________\n",
      "global_average_pooling1d_1 ( (None, 100)               0         \n",
      "_________________________________________________________________\n",
      "dense_1 (Dense)              (None, 64)                6464      \n",
      "=================================================================\n",
      "Total params: 1,964,964\n",
      "Trainable params: 1,964,964\n",
      "Non-trainable params: 0\n",
      "_________________________________________________________________\n"
     ]
    }
   ],
   "source": [
    "model.summary()"
   ]
  },
  {
   "cell_type": "code",
   "execution_count": 19,
   "metadata": {
    "collapsed": false
   },
   "outputs": [
    {
     "name": "stdout",
     "output_type": "stream",
     "text": [
      "Train on 2500 samples, validate on 1061 samples\n",
      "Epoch 1/40\n",
      "2500/2500 [==============================] - 1s - loss: 5.2355 - acc: 0.0292 - val_loss: 5.1750 - val_acc: 0.0377\n",
      "Epoch 2/40\n",
      "2500/2500 [==============================] - 0s - loss: 5.0094 - acc: 0.0604 - val_loss: 5.0479 - val_acc: 0.0424\n",
      "Epoch 3/40\n",
      "2500/2500 [==============================] - 0s - loss: 4.8626 - acc: 0.0828 - val_loss: 4.8807 - val_acc: 0.1423\n",
      "Epoch 4/40\n",
      "2500/2500 [==============================] - 1s - loss: 4.5875 - acc: 0.2020 - val_loss: 4.6183 - val_acc: 0.1960\n",
      "Epoch 5/40\n",
      "2500/2500 [==============================] - 0s - loss: 4.1427 - acc: 0.3212 - val_loss: 4.2010 - val_acc: 0.3421\n",
      "Epoch 6/40\n",
      "2500/2500 [==============================] - 0s - loss: 3.5405 - acc: 0.5000 - val_loss: 3.6931 - val_acc: 0.4062\n",
      "Epoch 7/40\n",
      "2500/2500 [==============================] - 0s - loss: 2.8912 - acc: 0.5868 - val_loss: 3.2299 - val_acc: 0.4760\n",
      "Epoch 8/40\n",
      "2500/2500 [==============================] - 1s - loss: 2.3772 - acc: 0.6684 - val_loss: 2.8869 - val_acc: 0.5580\n",
      "Epoch 9/40\n",
      "2500/2500 [==============================] - 0s - loss: 1.9624 - acc: 0.7168 - val_loss: 2.6075 - val_acc: 0.6098\n",
      "Epoch 10/40\n",
      "2500/2500 [==============================] - 0s - loss: 1.6673 - acc: 0.7660 - val_loss: 2.4903 - val_acc: 0.6107\n",
      "Epoch 11/40\n",
      "2500/2500 [==============================] - 0s - loss: 1.4373 - acc: 0.7784 - val_loss: 2.3239 - val_acc: 0.6381\n",
      "Epoch 12/40\n",
      "2500/2500 [==============================] - 0s - loss: 1.2823 - acc: 0.7960 - val_loss: 2.2828 - val_acc: 0.6541\n",
      "Epoch 13/40\n",
      "2500/2500 [==============================] - 0s - loss: 1.1666 - acc: 0.8004 - val_loss: 2.2501 - val_acc: 0.6305\n",
      "Epoch 14/40\n",
      "2500/2500 [==============================] - 1s - loss: 1.0562 - acc: 0.8152 - val_loss: 2.1834 - val_acc: 0.6484\n",
      "Epoch 15/40\n",
      "2500/2500 [==============================] - 0s - loss: 0.9751 - acc: 0.8188 - val_loss: 2.1864 - val_acc: 0.6503\n",
      "Epoch 16/40\n",
      "2500/2500 [==============================] - 1s - loss: 0.9258 - acc: 0.8144 - val_loss: 2.2017 - val_acc: 0.6484\n",
      "Epoch 17/40\n",
      "2500/2500 [==============================] - 0s - loss: 0.8723 - acc: 0.8132 - val_loss: 2.1392 - val_acc: 0.6588\n",
      "Epoch 18/40\n",
      "2500/2500 [==============================] - 1s - loss: 0.8271 - acc: 0.8164 - val_loss: 2.1953 - val_acc: 0.6541\n",
      "Epoch 19/40\n",
      "2500/2500 [==============================] - 0s - loss: 0.7978 - acc: 0.8192 - val_loss: 2.1631 - val_acc: 0.6428\n",
      "Epoch 20/40\n",
      "2500/2500 [==============================] - 0s - loss: 0.7665 - acc: 0.8244 - val_loss: 2.1453 - val_acc: 0.6569\n",
      "Epoch 21/40\n",
      "2500/2500 [==============================] - 0s - loss: 0.7562 - acc: 0.8324 - val_loss: 2.1929 - val_acc: 0.6664\n",
      "Epoch 22/40\n",
      "2500/2500 [==============================] - 0s - loss: 0.7399 - acc: 0.8312 - val_loss: 2.2055 - val_acc: 0.6418\n",
      "Epoch 23/40\n",
      "2500/2500 [==============================] - 0s - loss: 0.7471 - acc: 0.8244 - val_loss: 2.2536 - val_acc: 0.6758\n",
      "Epoch 24/40\n",
      "2500/2500 [==============================] - 0s - loss: 0.7396 - acc: 0.8392 - val_loss: 2.2190 - val_acc: 0.6343\n",
      "Epoch 25/40\n",
      "2500/2500 [==============================] - 1s - loss: 0.7123 - acc: 0.8224 - val_loss: 2.2155 - val_acc: 0.6607\n",
      "Epoch 26/40\n",
      "2500/2500 [==============================] - 1s - loss: 0.7014 - acc: 0.8404 - val_loss: 2.2517 - val_acc: 0.6475\n",
      "Epoch 27/40\n",
      "2500/2500 [==============================] - 0s - loss: 0.7196 - acc: 0.8340 - val_loss: 2.2480 - val_acc: 0.6428\n",
      "Epoch 28/40\n",
      "2500/2500 [==============================] - 0s - loss: 0.7025 - acc: 0.8224 - val_loss: 2.2277 - val_acc: 0.6494\n",
      "Epoch 29/40\n",
      "2500/2500 [==============================] - 0s - loss: 0.6949 - acc: 0.8356 - val_loss: 2.2723 - val_acc: 0.6522\n",
      "Epoch 30/40\n",
      "2500/2500 [==============================] - 0s - loss: 0.6887 - acc: 0.8356 - val_loss: 2.2454 - val_acc: 0.6475\n",
      "Epoch 31/40\n",
      "2500/2500 [==============================] - 0s - loss: 0.6836 - acc: 0.8324 - val_loss: 2.2604 - val_acc: 0.6607\n",
      "Epoch 32/40\n",
      "2500/2500 [==============================] - 0s - loss: 0.6682 - acc: 0.8360 - val_loss: 2.2637 - val_acc: 0.6418\n",
      "Epoch 33/40\n",
      "2500/2500 [==============================] - 0s - loss: 0.6597 - acc: 0.8300 - val_loss: 2.2935 - val_acc: 0.6598\n",
      "Epoch 34/40\n",
      "2500/2500 [==============================] - 0s - loss: 0.6538 - acc: 0.8424 - val_loss: 2.2707 - val_acc: 0.6381\n",
      "Epoch 35/40\n",
      "2500/2500 [==============================] - 0s - loss: 0.6480 - acc: 0.8300 - val_loss: 2.2804 - val_acc: 0.6362\n",
      "Epoch 36/40\n",
      "2500/2500 [==============================] - 0s - loss: 0.6551 - acc: 0.8304 - val_loss: 2.3015 - val_acc: 0.6626\n",
      "Epoch 37/40\n",
      "2500/2500 [==============================] - 1s - loss: 0.6506 - acc: 0.8420 - val_loss: 2.3498 - val_acc: 0.6456\n",
      "Epoch 38/40\n",
      "2500/2500 [==============================] - 1s - loss: 0.6549 - acc: 0.8380 - val_loss: 2.3553 - val_acc: 0.6352\n",
      "Epoch 39/40\n",
      "2500/2500 [==============================] - 0s - loss: 0.6452 - acc: 0.8432 - val_loss: 2.3680 - val_acc: 0.6287\n",
      "Epoch 40/40\n",
      "2500/2500 [==============================] - 0s - loss: 0.6502 - acc: 0.8284 - val_loss: 2.3783 - val_acc: 0.6475\n"
     ]
    },
    {
     "data": {
      "text/plain": [
       "<keras.callbacks.History at 0x12219eb38>"
      ]
     },
     "execution_count": 19,
     "metadata": {},
     "output_type": "execute_result"
    }
   ],
   "source": [
    "# Early stopping\n",
    "early_stopping = EarlyStopping(monitor = ['val_loss'], min_delta = 0.01, \n",
    "                              patience = 5, verbose = 1, mode = 'auto')\n",
    "\n",
    "# training\n",
    "model.fit(train_padding, train_y,\n",
    "          batch_size = 256,\n",
    "          epochs = 40,\n",
    "          shuffle = True,\n",
    "          validation_data=(test_padding, test_y))"
   ]
  },
  {
   "cell_type": "code",
   "execution_count": 24,
   "metadata": {
    "collapsed": true
   },
   "outputs": [],
   "source": [
    "# save model\n",
    "# model.save('fastText2_model_final.h5')\n",
    "# model = load_model('./fastText2_model_final.h5')"
   ]
  },
  {
   "cell_type": "code",
   "execution_count": 25,
   "metadata": {
    "collapsed": true
   },
   "outputs": [],
   "source": [
    "# get predictions\n",
    "train_preds = model.predict(train_padding)\n",
    "test_preds = model.predict(test_padding)"
   ]
  },
  {
   "cell_type": "markdown",
   "metadata": {},
   "source": [
    "## Metrics (relaxed, nonrelaxed & bar-chart)"
   ]
  },
  {
   "cell_type": "code",
   "execution_count": 26,
   "metadata": {
    "collapsed": true
   },
   "outputs": [],
   "source": [
    "# get a map that contains empathy and its corresponding polarity score, this map will be used to compute metrics\n",
    "dict_polarities = {}\n",
    "for i in range(empathies.shape[0]):\n",
    "    dict_polarities[empathies.iloc[i][0]] = float(empathies.iloc[i][1])"
   ]
  },
  {
   "cell_type": "markdown",
   "metadata": {},
   "source": [
    "The following function is used to compare against the ground truth in a **relaxed**  format, which means if the predicted class is not exactly the same as the truth, but has the same polarity score. The prediction will still be counted as truth positive\n",
    "\n",
    "The output is a dictionary contained label: number of true positives, false positives and false negatives\n",
    "the output will be used for calculating overall precision, recall and F1 score"
   ]
  },
  {
   "cell_type": "code",
   "execution_count": 27,
   "metadata": {
    "collapsed": true
   },
   "outputs": [],
   "source": [
    "def compare_truth_relaxed(cutoff_value, dict_polarities, model, inputs, all_preds, start, stop):\n",
    "    '''\n",
    "    output: {label: [TP, FP, FN]}\n",
    "    '''\n",
    "    label_s = list(dict_polarities.keys())\n",
    "    res = {}\n",
    "    \n",
    "    for l in label_s:\n",
    "        # True Positives, False Positives, False Negatives\n",
    "        res[l] = [0, 0, 0]\n",
    "    \n",
    "    j = -1\n",
    "    for i in range(start, stop):\n",
    "        j += 1\n",
    "        preds = all_preds[j]\n",
    "        true_scores = [dict_polarities[la.strip()] for la in msg.iloc[i]['empathy'].split(',') if la != '']\n",
    "        \n",
    "        # store predicted labels and the corresponding polarity score\n",
    "        pred_labs, scores  = [], []\n",
    "        preds = [list(empathies['empathy'][np.argsort(preds)[63:58:-1]]), np.sort(preds)[63:58:-1]]\n",
    "        \n",
    "        for lab, p in zip(preds[0], preds[1]):\n",
    "            if p > cutoff_value:\n",
    "                pred_labs.append(lab)\n",
    "                scores.append(dict_polarities[lab])\n",
    "                if lab in msg.iloc[i]['empathy'] or dict_polarities[lab] in true_scores:\n",
    "                    # true positive\n",
    "                    res[lab][0] += 1\n",
    "                if lab not in msg.iloc[i]['empathy'] and dict_polarities[lab] not in true_scores:\n",
    "                    # false positive\n",
    "                    res[lab][1] += 1\n",
    "                \n",
    "        for true_lab in msg.iloc[i]['empathy'].split(','):\n",
    "            true_lab = true_lab.strip()\n",
    "            if true_lab != '' and true_lab != ' ' and true_lab not in pred_labs and dict_polarities[lab] not in scores:\n",
    "                # false negative\n",
    "                res[true_lab][2] += 1\n",
    "                \n",
    "    return res"
   ]
  },
  {
   "cell_type": "markdown",
   "metadata": {},
   "source": [
    "Similiar as the above function. The following function is used to compare against the ground truth, but in a **nonrelaxed** format -- the predicted class has to be exactly the same as the truth in order to be counted as true positive.\n",
    "\n",
    "The output is a dictionary contained label: number of true positives, false positives and false negatives\n",
    "the output will be used for calculating overall precision, recall and F1 score"
   ]
  },
  {
   "cell_type": "code",
   "execution_count": 38,
   "metadata": {
    "collapsed": true
   },
   "outputs": [],
   "source": [
    "def compare_truth_nonrelaxed(cutoff_value, dict_polarities, model, inputs, all_preds, start, stop):\n",
    "    '''\n",
    "    output: {label: [TP, FP, FN]}\n",
    "    '''\n",
    "    label_s = list(dict_polarities.keys())\n",
    "    res = {}\n",
    "    \n",
    "    for l in label_s:\n",
    "        # True Positives, False Positives, False Negatives\n",
    "        res[l] = [0, 0, 0]\n",
    "    \n",
    "    j = -1\n",
    "    for i in range(start, stop):\n",
    "        j += 1\n",
    "        preds = all_preds[j]\n",
    "        true_scores = [dict_polarities[la.strip()] for la in msg.iloc[i]['empathy'].split(',') if la != '']\n",
    "        \n",
    "        # store predicted labels and the corresponding polarity score\n",
    "        pred_labs, scores  = [], []\n",
    "        preds = [list(empathies['empathy'][np.argsort(preds)[63:58:-1]]), np.sort(preds)[63:58:-1]]\n",
    "        \n",
    "        for lab, p in zip(preds[0], preds[1]):\n",
    "            if p > cutoff_value:\n",
    "                pred_labs.append(lab)\n",
    "                scores.append(dict_polarities[lab])\n",
    "                if lab in msg.iloc[i]['empathy']:\n",
    "                    # true positive\n",
    "                    res[lab][0] += 1\n",
    "                if lab not in msg.iloc[i]['empathy']:\n",
    "                    # false positive\n",
    "                    res[lab][1] += 1\n",
    "                \n",
    "        for true_lab in msg.iloc[i]['empathy'].split(','):\n",
    "            true_lab = true_lab.strip()\n",
    "            if true_lab != '' and true_lab != ' ' and true_lab not in pred_labs:\n",
    "                # false negative\n",
    "                res[true_lab][2] += 1\n",
    "                \n",
    "    return res"
   ]
  },
  {
   "cell_type": "code",
   "execution_count": 28,
   "metadata": {
    "collapsed": true
   },
   "outputs": [],
   "source": [
    "def overall_score(res):\n",
    "    '''\n",
    "    output precision, recall and F1 score\n",
    "    '''\n",
    "    num_TP, num_FP, num_FN = 0, 0, 0\n",
    "    \n",
    "    for _, vals in res.items():\n",
    "        num_TP += vals[0]\n",
    "        num_FP += vals[1]\n",
    "        num_FN += vals[2]\n",
    "            \n",
    "    precision = num_TP/(num_TP+num_FP)\n",
    "    recall = num_TP/(num_TP+num_FN)\n",
    "    \n",
    "    return precision, recall, 2/(1/precision + 1/recall)"
   ]
  },
  {
   "cell_type": "code",
   "execution_count": 29,
   "metadata": {
    "collapsed": false
   },
   "outputs": [],
   "source": [
    "# explore the best cutoff value with the training data\n",
    "ps, rs, fs = [], [], []\n",
    "for proposed_cut in np.arange(.0, .5, .01):\n",
    "    res = compare_truth_relaxed(proposed_cut, dict_polarities, model, msg, train_preds, 0, 2500)\n",
    "    p, r, f = overall_score(res)\n",
    "    ps.append(p)\n",
    "    rs.append(rs)\n",
    "    fs.append(f)"
   ]
  },
  {
   "cell_type": "code",
   "execution_count": 30,
   "metadata": {
    "collapsed": false
   },
   "outputs": [
    {
     "data": {
      "image/png": "[encoded data removed]",
      "text/plain": [
       "<matplotlib.figure.Figure at 0x12203cd30>"
      ]
     },
     "metadata": {},
     "output_type": "display_data"
    }
   ],
   "source": [
    "# plot the change of F1 score as the cutoff value increases from 0.0 to 0.5\n",
    "proposed_cuts = np.arange(.0, .5, .01)\n",
    "plt.plot(proposed_cuts, fs, 'r--')\n",
    "plt.show()"
   ]
  },
  {
   "cell_type": "code",
   "execution_count": 31,
   "metadata": {
    "collapsed": false
   },
   "outputs": [
    {
     "data": {
      "text/plain": [
       "0.16"
      ]
     },
     "execution_count": 31,
     "metadata": {},
     "output_type": "execute_result"
    }
   ],
   "source": [
    "# find the best cutoff value\n",
    "max_fs_idx = fs.index(max(fs))\n",
    "np.arange(.0, .5, .01)[max_fs_idx]"
   ]
  },
  {
   "cell_type": "code",
   "execution_count": 35,
   "metadata": {
    "collapsed": true
   },
   "outputs": [],
   "source": [
    "# generate bar-chart of true positives, false positives and false negatives for each class\n",
    "def confu_plot(con_matrix):\n",
    "    '''\n",
    "    generate bar-chart of true positives, false positives and false negatives for each class\n",
    "    '''\n",
    "    names = []\n",
    "    TP, FP, FN = [], [], []\n",
    "    for k, vals in con_matrix.items():\n",
    "        name=k.replace('__label__', '')\n",
    "        names.append(name)\n",
    "        TP.append(vals[0])\n",
    "        FP.append(vals[1])\n",
    "        FN.append(vals[2])\n",
    "\n",
    "    trace1 = go.Bar(\n",
    "        x=names,\n",
    "        y=TP,\n",
    "        name='True Positive'\n",
    "    )\n",
    "\n",
    "    trace2 = go.Bar(\n",
    "        x=names,\n",
    "        y=FP,\n",
    "        name='False Positive'\n",
    "    )\n",
    "\n",
    "    trace3 = go.Bar(\n",
    "        x=names,\n",
    "        y=FN,\n",
    "        name='False Negative'\n",
    "    )\n",
    "\n",
    "    data = [trace1, trace2, trace3]\n",
    "    layout = go.Layout(\n",
    "        barmode='group',\n",
    "\n",
    "        xaxis=dict(\n",
    "            title='labels',\n",
    "            titlefont=dict(\n",
    "                size=18,\n",
    "            ),\n",
    "            showticklabels=True,\n",
    "            tickangle=45,\n",
    "            tickfont=dict(\n",
    "                size=14,\n",
    "                color='black'\n",
    "            ),\n",
    "            exponentformat='e',\n",
    "            showexponent='All'\n",
    "        )\n",
    "    )\n",
    "\n",
    "    fig = go.Figure(data=data, layout=layout)\n",
    "    plotly.offline.iplot(fig, filename='grouped-bar') "
   ]
  },
  {
   "cell_type": "code",
   "execution_count": 33,
   "metadata": {
    "collapsed": false
   },
   "outputs": [
    {
     "name": "stdout",
     "output_type": "stream",
     "text": [
      "model performance on the validation dataset is: \n",
      "precision: 0.8164652567975831\n",
      "recall: 0.7672107877927609\n",
      "F1: 0.7910720819612148\n"
     ]
    }
   ],
   "source": [
    "# calculate overall precision, recall and F1 score of validation data with the cutoff value found from above\n",
    "res = compare_truth_relaxed(.16, dict_polarities, model, msg, test_preds, 2500, msg.shape[0])\n",
    "overall_scores = overall_score(res)\n",
    "\n",
    "print('model performance on the validation dataset is: ')\n",
    "print('precision: {}'.format(overall_scores[0]))\n",
    "print('recall: {}'.format(overall_scores[1]))\n",
    "print('F1: {}'.format(overall_scores[2]))"
   ]
  },
  {
   "cell_type": "code",
   "execution_count": 36,
   "metadata": {
    "collapsed": false
   },
   "outputs": [
    {
     "data": {
      "text/html": [
       "<div id=\"5162e636-9007-488c-9cd8-14cef791dc1e\" style=\"height: 525px; width: 100%;\" class=\"plotly-graph-div\"></div><script type=\"text/javascript\">require([\"plotly\"], function(Plotly) { window.PLOTLYENV=window.PLOTLYENV || {};window.PLOTLYENV.BASE_URL=\"https://plot.ly\";Plotly.newPlot(\"5162e636-9007-488c-9cd8-14cef791dc1e\", [{\"type\": \"bar\", \"y\": [21, 36, 7, 11, 33, 28, 10, 8, 9, 24, 3, 0, 3, 9, 73, 10, 20, 5, 20, 44, 31, 4, 11, 12, 3, 12, 10, 9, 45, 0, 2, 17, 1, 4, 0, 12, 23, 11, 21, 18, 0, 15, 2, 2, 4, 14, 8, 8, 21, 41, 27, 31, 36, 1, 1, 74, 17, 0, 61, 53, 0, 41, 0, 4], \"x\": [\"unmotivated\", \"sleep\", \"uneasy\", \"unsatisfied\", \"emotionless\", \"average\", \"relief\", \"good\", \"sick\", \"stress\", \"upset\", \"frustrated\", \"inspired\", \"vulnerable\", \"happy\", \"loss\", \"determined\", \"sexy\", \"idk\", \"depressed\", \"pain\", \"despair\", \"intoxicated\", \"hungry\", \"hopeful\", \"engaged\", \"full\", \"affectionate\", \"calm\", \"surprised\", \"creative\", \"distortion\", \"loved\", \"restless\", \"ignored\", \"great\", \"confused\", \"lazy\", \"annoyed\", \"disconnected\", \"panic\", \"pensive\", \"regret\", \"uncertain\", \"embarrassed\", \"scared\", \"emotional\", \"stable\", \"better\", \"angry\", \"lonely\", \"bored\", \"okay\", \"playful\", \"rude\", \"sad\", \"confidence\", \"healthy\", \"tired\", \"anxious\", \"thirsty\", \"excited\", \"jealous\", \"flustered\"], \"name\": \"True Positive\"}, {\"type\": \"bar\", \"y\": [10, 3, 1, 4, 11, 13, 1, 5, 4, 5, 3, 0, 1, 0, 14, 0, 1, 0, 15, 7, 0, 2, 1, 0, 1, 2, 1, 2, 2, 0, 0, 4, 0, 0, 0, 8, 2, 0, 10, 15, 0, 4, 0, 2, 4, 1, 1, 0, 6, 4, 2, 0, 27, 0, 0, 21, 2, 0, 9, 10, 0, 1, 0, 1], \"x\": [\"unmotivated\", \"sleep\", \"uneasy\", \"unsatisfied\", \"emotionless\", \"average\", \"relief\", \"good\", \"sick\", \"stress\", \"upset\", \"frustrated\", \"inspired\", \"vulnerable\", \"happy\", \"loss\", \"determined\", \"sexy\", \"idk\", \"depressed\", \"pain\", \"despair\", \"intoxicated\", \"hungry\", \"hopeful\", \"engaged\", \"full\", \"affectionate\", \"calm\", \"surprised\", \"creative\", \"distortion\", \"loved\", \"restless\", \"ignored\", \"great\", \"confused\", \"lazy\", \"annoyed\", \"disconnected\", \"panic\", \"pensive\", \"regret\", \"uncertain\", \"embarrassed\", \"scared\", \"emotional\", \"stable\", \"better\", \"angry\", \"lonely\", \"bored\", \"okay\", \"playful\", \"rude\", \"sad\", \"confidence\", \"healthy\", \"tired\", \"anxious\", \"thirsty\", \"excited\", \"jealous\", \"flustered\"], \"name\": \"False Positive\"}, {\"type\": \"bar\", \"y\": [5, 13, 7, 2, 5, 4, 5, 11, 5, 4, 7, 0, 1, 1, 15, 5, 7, 3, 6, 7, 10, 5, 1, 0, 0, 6, 0, 2, 19, 2, 0, 8, 1, 0, 0, 4, 9, 5, 11, 13, 0, 0, 4, 6, 6, 0, 3, 4, 1, 6, 10, 10, 11, 0, 0, 26, 4, 0, 14, 10, 0, 3, 0, 1], \"x\": [\"unmotivated\", \"sleep\", \"uneasy\", \"unsatisfied\", \"emotionless\", \"average\", \"relief\", \"good\", \"sick\", \"stress\", \"upset\", \"frustrated\", \"inspired\", \"vulnerable\", \"happy\", \"loss\", \"determined\", \"sexy\", \"idk\", \"depressed\", \"pain\", \"despair\", \"intoxicated\", \"hungry\", \"hopeful\", \"engaged\", \"full\", \"affectionate\", \"calm\", \"surprised\", \"creative\", \"distortion\", \"loved\", \"restless\", \"ignored\", \"great\", \"confused\", \"lazy\", \"annoyed\", \"disconnected\", \"panic\", \"pensive\", \"regret\", \"uncertain\", \"embarrassed\", \"scared\", \"emotional\", \"stable\", \"better\", \"angry\", \"lonely\", \"bored\", \"okay\", \"playful\", \"rude\", \"sad\", \"confidence\", \"healthy\", \"tired\", \"anxious\", \"thirsty\", \"excited\", \"jealous\", \"flustered\"], \"name\": \"False Negative\"}], {\"xaxis\": {\"titlefont\": {\"size\": 18}, \"exponentformat\": \"e\", \"tickfont\": {\"size\": 14, \"color\": \"black\"}, \"showexponent\": \"All\", \"showticklabels\": true, \"tickangle\": 45, \"title\": \"labels\"}, \"barmode\": \"group\"}, {\"linkText\": \"Export to plot.ly\", \"showLink\": true})});</script>"
      ],
      "text/plain": [
       "<IPython.core.display.HTML object>"
      ]
     },
     "metadata": {},
     "output_type": "display_data"
    }
   ],
   "source": [
    "# plotting\n",
    "confu_plot(res)"
   ]
  },
  {
   "cell_type": "code",
   "execution_count": 39,
   "metadata": {
    "collapsed": false
   },
   "outputs": [],
   "source": [
    "# explore the best cutoff value with the training data using the non-relaxed comparison function\n",
    "ps, rs, fs = [], [], []\n",
    "for proposed_cut in np.arange(.0, .5, .01):\n",
    "    res = compare_truth_nonrelaxed(proposed_cut, dict_polarities, model, msg, train_preds, 0, 2500)\n",
    "    p, r, f = overall_score(res)\n",
    "    ps.append(p)\n",
    "    rs.append(rs)\n",
    "    fs.append(f)"
   ]
  },
  {
   "cell_type": "code",
   "execution_count": 40,
   "metadata": {
    "collapsed": false
   },
   "outputs": [
    {
     "data": {
      "image/png": "[encoded data removed]",
      "text/plain": [
       "<matplotlib.figure.Figure at 0x125b1a400>"
      ]
     },
     "metadata": {},
     "output_type": "display_data"
    }
   ],
   "source": [
    "# plot the change of F1 score as the cutoff value increases from 0.0 to 0.5\n",
    "proposed_cuts = np.arange(.0, .5, .01)\n",
    "# red dashes\n",
    "plt.plot(proposed_cuts, fs, 'r--')\n",
    "plt.show()"
   ]
  },
  {
   "cell_type": "code",
   "execution_count": 41,
   "metadata": {
    "collapsed": false
   },
   "outputs": [
    {
     "data": {
      "text/plain": [
       "0.14000000000000001"
      ]
     },
     "execution_count": 41,
     "metadata": {},
     "output_type": "execute_result"
    }
   ],
   "source": [
    "# find the best cutoff value\n",
    "max_fs_idx = fs.index(max(fs))\n",
    "np.arange(.0, .5, .01)[max_fs_idx]"
   ]
  },
  {
   "cell_type": "code",
   "execution_count": 42,
   "metadata": {
    "collapsed": false
   },
   "outputs": [
    {
     "name": "stdout",
     "output_type": "stream",
     "text": [
      "model performance using non-relaxed comparison function on the validation dataset is: \n",
      "precision: 0.7674247982391783\n",
      "recall: 0.7263888888888889\n",
      "F1: 0.7463432037103104\n"
     ]
    }
   ],
   "source": [
    "# calculate overall precision, recall and F1 score of validation data with the cutoff value found from above\n",
    "res = compare_truth_nonrelaxed(.14, dict_polarities, model, msg, test_preds, 2500, msg.shape[0])\n",
    "overall_scores = overall_score(res)\n",
    "\n",
    "print('model performance using non-relaxed comparison function on the validation dataset is: ')\n",
    "print('precision: {}'.format(overall_scores[0]))\n",
    "print('recall: {}'.format(overall_scores[1]))\n",
    "print('F1: {}'.format(overall_scores[2]))"
   ]
  },
  {
   "cell_type": "code",
   "execution_count": 43,
   "metadata": {
    "collapsed": false
   },
   "outputs": [
    {
     "data": {
      "text/html": [
       "<div id=\"1d242f14-045a-4161-8797-a0c067eb5fad\" style=\"height: 525px; width: 100%;\" class=\"plotly-graph-div\"></div><script type=\"text/javascript\">require([\"plotly\"], function(Plotly) { window.PLOTLYENV=window.PLOTLYENV || {};window.PLOTLYENV.BASE_URL=\"https://plot.ly\";Plotly.newPlot(\"1d242f14-045a-4161-8797-a0c067eb5fad\", [{\"type\": \"bar\", \"y\": [19, 37, 7, 11, 32, 30, 10, 9, 9, 24, 3, 0, 3, 9, 69, 10, 21, 5, 19, 38, 31, 4, 11, 12, 3, 10, 10, 9, 46, 0, 2, 14, 1, 4, 0, 10, 22, 11, 20, 18, 0, 15, 2, 2, 4, 14, 7, 8, 21, 37, 29, 31, 35, 1, 1, 67, 17, 0, 60, 48, 0, 40, 0, 4], \"x\": [\"unmotivated\", \"sleep\", \"uneasy\", \"unsatisfied\", \"emotionless\", \"average\", \"relief\", \"good\", \"sick\", \"stress\", \"upset\", \"frustrated\", \"inspired\", \"vulnerable\", \"happy\", \"loss\", \"determined\", \"sexy\", \"idk\", \"depressed\", \"pain\", \"despair\", \"intoxicated\", \"hungry\", \"hopeful\", \"engaged\", \"full\", \"affectionate\", \"calm\", \"surprised\", \"creative\", \"distortion\", \"loved\", \"restless\", \"ignored\", \"great\", \"confused\", \"lazy\", \"annoyed\", \"disconnected\", \"panic\", \"pensive\", \"regret\", \"uncertain\", \"embarrassed\", \"scared\", \"emotional\", \"stable\", \"better\", \"angry\", \"lonely\", \"bored\", \"okay\", \"playful\", \"rude\", \"sad\", \"confidence\", \"healthy\", \"tired\", \"anxious\", \"thirsty\", \"excited\", \"jealous\", \"flustered\"], \"name\": \"True Positive\"}, {\"type\": \"bar\", \"y\": [12, 3, 1, 4, 15, 14, 1, 5, 6, 7, 3, 0, 1, 0, 23, 0, 2, 0, 16, 14, 0, 2, 1, 0, 1, 4, 1, 2, 6, 0, 0, 8, 0, 0, 0, 10, 3, 0, 11, 16, 0, 4, 0, 2, 4, 1, 3, 0, 7, 8, 2, 0, 33, 0, 0, 29, 2, 0, 11, 16, 0, 2, 0, 1], \"x\": [\"unmotivated\", \"sleep\", \"uneasy\", \"unsatisfied\", \"emotionless\", \"average\", \"relief\", \"good\", \"sick\", \"stress\", \"upset\", \"frustrated\", \"inspired\", \"vulnerable\", \"happy\", \"loss\", \"determined\", \"sexy\", \"idk\", \"depressed\", \"pain\", \"despair\", \"intoxicated\", \"hungry\", \"hopeful\", \"engaged\", \"full\", \"affectionate\", \"calm\", \"surprised\", \"creative\", \"distortion\", \"loved\", \"restless\", \"ignored\", \"great\", \"confused\", \"lazy\", \"annoyed\", \"disconnected\", \"panic\", \"pensive\", \"regret\", \"uncertain\", \"embarrassed\", \"scared\", \"emotional\", \"stable\", \"better\", \"angry\", \"lonely\", \"bored\", \"okay\", \"playful\", \"rude\", \"sad\", \"confidence\", \"healthy\", \"tired\", \"anxious\", \"thirsty\", \"excited\", \"jealous\", \"flustered\"], \"name\": \"False Positive\"}, {\"type\": \"bar\", \"y\": [7, 12, 9, 4, 6, 3, 6, 10, 5, 8, 9, 0, 1, 2, 14, 6, 9, 3, 6, 11, 15, 8, 1, 0, 1, 6, 1, 3, 17, 2, 0, 7, 1, 0, 2, 4, 10, 5, 20, 14, 0, 2, 6, 7, 7, 1, 3, 4, 1, 6, 11, 11, 13, 0, 0, 29, 5, 0, 19, 12, 0, 8, 0, 1], \"x\": [\"unmotivated\", \"sleep\", \"uneasy\", \"unsatisfied\", \"emotionless\", \"average\", \"relief\", \"good\", \"sick\", \"stress\", \"upset\", \"frustrated\", \"inspired\", \"vulnerable\", \"happy\", \"loss\", \"determined\", \"sexy\", \"idk\", \"depressed\", \"pain\", \"despair\", \"intoxicated\", \"hungry\", \"hopeful\", \"engaged\", \"full\", \"affectionate\", \"calm\", \"surprised\", \"creative\", \"distortion\", \"loved\", \"restless\", \"ignored\", \"great\", \"confused\", \"lazy\", \"annoyed\", \"disconnected\", \"panic\", \"pensive\", \"regret\", \"uncertain\", \"embarrassed\", \"scared\", \"emotional\", \"stable\", \"better\", \"angry\", \"lonely\", \"bored\", \"okay\", \"playful\", \"rude\", \"sad\", \"confidence\", \"healthy\", \"tired\", \"anxious\", \"thirsty\", \"excited\", \"jealous\", \"flustered\"], \"name\": \"False Negative\"}], {\"xaxis\": {\"titlefont\": {\"size\": 18}, \"exponentformat\": \"e\", \"tickfont\": {\"size\": 14, \"color\": \"black\"}, \"showexponent\": \"All\", \"showticklabels\": true, \"tickangle\": 45, \"title\": \"labels\"}, \"barmode\": \"group\"}, {\"linkText\": \"Export to plot.ly\", \"showLink\": true})});</script>"
      ],
      "text/plain": [
       "<IPython.core.display.HTML object>"
      ]
     },
     "metadata": {},
     "output_type": "display_data"
    }
   ],
   "source": [
    "# plotting\n",
    "confu_plot(res)"
   ]
  },
  {
   "cell_type": "code",
   "execution_count": 44,
   "metadata": {
    "collapsed": false
   },
   "outputs": [],
   "source": [
    "# used for transform a string into the acceptable format for the model\n",
    "def text_processor(input_str, token_indices, max_len = 128):\n",
    "    '''\n",
    "    ---\n",
    "    args:\n",
    "        input_str: an input string\n",
    "        token_indices: map of token index calculated from above\n",
    "        max_len: the length of input that the model accepts\n",
    "    ---\n",
    "    return:\n",
    "       padded sequence for the model \n",
    "    '''\n",
    "    tokens = TweetTokenizer().tokenize(input_str.lower())\n",
    "    sen2input = []\n",
    "    \n",
    "    for i, token in enumerate(tokens):\n",
    "        if i < max_len:\n",
    "            sen2input.append(token_indices[token])\n",
    "            \n",
    "    sen2input = add_ngram([sen2input], token_indice2, 3)\n",
    "    \n",
    "    return pad_sequences(sen2input, max_len)"
   ]
  },
  {
   "cell_type": "markdown",
   "metadata": {},
   "source": [
    "### test model performance on emoji "
   ]
  },
  {
   "cell_type": "code",
   "execution_count": 46,
   "metadata": {
    "collapsed": false
   },
   "outputs": [
    {
     "data": {
      "text/plain": [
       "['hungry', 'okay', 'sad', 'tired', 'happy']"
      ]
     },
     "execution_count": 46,
     "metadata": {},
     "output_type": "execute_result"
    }
   ],
   "source": [
    "random_input = text_processor('😋', token_indices)\n",
    "random_res = model.predict(random_input)\n",
    "# print out top five predictions\n",
    "list(empathies['empathy'][np.argsort(random_res[0])[63:58:-1]])"
   ]
  }
 ],
 "metadata": {
  "anaconda-cloud": {},
  "kernelspec": {
   "display_name": "Python [Root]",
   "language": "python",
   "name": "Python [Root]"
  },
  "language_info": {
   "codemirror_mode": {
    "name": "ipython",
    "version": 3
   },
   "file_extension": ".py",
   "mimetype": "text/x-python",
   "name": "python",
   "nbconvert_exporter": "python",
   "pygments_lexer": "ipython3",
   "version": "3.5.1"
  }
 },
 "nbformat": 4,
 "nbformat_minor": 0
}
